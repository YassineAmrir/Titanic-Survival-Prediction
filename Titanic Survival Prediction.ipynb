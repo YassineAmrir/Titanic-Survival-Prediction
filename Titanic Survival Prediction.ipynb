{
 "cells": [
  {
   "cell_type": "markdown",
   "id": "534bdc82",
   "metadata": {
    "papermill": {
     "duration": 0.022519,
     "end_time": "2024-06-14T00:28:34.194172",
     "exception": false,
     "start_time": "2024-06-14T00:28:34.171653",
     "status": "completed"
    },
    "tags": []
   },
   "source": [
    "# Titanic Survival Prediction\n",
    "\n",
    "## Introduction\n",
    "The sinking of the Titanic is one of the most infamous shipwrecks in history. On April 15, 1912, during her maiden voyage, the Titanic sank after colliding with an iceberg, killing 1502 out of 2224 passengers and crew. This project aims to predict whether a passenger on the Titanic would have survived or not based on various features such as age, sex, class, and others.\n",
    "\n",
    "## Problem Statement\n",
    "Given a set of features for passengers on the Titanic, our goal is to build a predictive model that can accurately classify whether a passenger survived or not. This is a binary classification problem where the target variable is `Survived`.\n",
    "\n",
    "## Objectives\n",
    "- Explore and analyze the Titanic dataset.\n",
    "- Preprocess the data to handle missing values, encode categorical variables, and scale features.\n",
    "- Build and evaluate multiple machine learning models.\n",
    "- Optimize the models to improve performance.\n",
    "\n",
    "## Dataset\n",
    "The dataset consists of the following features:\n",
    "\n",
    "- `PassengerId`: Unique ID for each passenger.\n",
    "- `Survived`: Survival status (0 = No, 1 = Yes).\n",
    "- `Pclass`: Passenger class (1 = 1st, 2 = 2nd, 3 = 3rd).\n",
    "- `Name`: Name of the passenger.\n",
    "- `Sex`: Gender of the passenger.\n",
    "- `Age`: Age of the passenger.\n",
    "- `SibSp`: Number of siblings/spouses aboard the Titanic.\n",
    "- `Parch`: Number of parents/children aboard the Titanic.\n",
    "- `Ticket`: Ticket number.\n",
    "- `Fare`: Passenger fare.\n",
    "- `Cabin`: Cabin number (if available).\n",
    "- `Embarked`: Port of embarkation (C = Cherbourg, Q = Queenstown, S = Southampton).\n",
    "\n",
    "## Notebook Initialization\n",
    "We will start by importing the necessary libraries and loading the dataset.\n"
   ]
  },
  {
   "cell_type": "code",
   "execution_count": 1,
   "id": "82cb979d",
   "metadata": {
    "execution": {
     "iopub.execute_input": "2024-06-14T00:28:34.241367Z",
     "iopub.status.busy": "2024-06-14T00:28:34.240926Z",
     "iopub.status.idle": "2024-06-14T00:28:37.481127Z",
     "shell.execute_reply": "2024-06-14T00:28:37.479807Z"
    },
    "papermill": {
     "duration": 3.267013,
     "end_time": "2024-06-14T00:28:37.483976",
     "exception": false,
     "start_time": "2024-06-14T00:28:34.216963",
     "status": "completed"
    },
    "tags": []
   },
   "outputs": [],
   "source": [
    "import numpy as np\n",
    "import pandas as pd\n",
    "from sklearn.impute import SimpleImputer\n",
    "from sklearn.neighbors import KNeighborsClassifier\n",
    "from sklearn.tree import DecisionTreeClassifier\n",
    "from sklearn.ensemble import RandomForestClassifier\n",
    "from sklearn.naive_bayes import GaussianNB\n",
    "from sklearn.svm import SVC\n",
    "from sklearn.model_selection import KFold\n",
    "from sklearn.model_selection import cross_val_score\n",
    "from sklearn.metrics import confusion_matrix\n",
    "import seaborn as sns\n",
    "import matplotlib.pyplot as plt"
   ]
  },
  {
   "cell_type": "markdown",
   "id": "0800b167",
   "metadata": {
    "papermill": {
     "duration": 0.023613,
     "end_time": "2024-06-14T00:28:37.532432",
     "exception": false,
     "start_time": "2024-06-14T00:28:37.508819",
     "status": "completed"
    },
    "tags": []
   },
   "source": [
    "### Train Data:"
   ]
  },
  {
   "cell_type": "code",
   "execution_count": 2,
   "id": "dfcc1f37",
   "metadata": {
    "execution": {
     "iopub.execute_input": "2024-06-14T00:28:37.579806Z",
     "iopub.status.busy": "2024-06-14T00:28:37.579199Z",
     "iopub.status.idle": "2024-06-14T00:28:37.640771Z",
     "shell.execute_reply": "2024-06-14T00:28:37.639443Z"
    },
    "papermill": {
     "duration": 0.088596,
     "end_time": "2024-06-14T00:28:37.643764",
     "exception": false,
     "start_time": "2024-06-14T00:28:37.555168",
     "status": "completed"
    },
    "tags": []
   },
   "outputs": [
    {
     "data": {
      "text/html": [
       "<div>\n",
       "<style scoped>\n",
       "    .dataframe tbody tr th:only-of-type {\n",
       "        vertical-align: middle;\n",
       "    }\n",
       "\n",
       "    .dataframe tbody tr th {\n",
       "        vertical-align: top;\n",
       "    }\n",
       "\n",
       "    .dataframe thead th {\n",
       "        text-align: right;\n",
       "    }\n",
       "</style>\n",
       "<table border=\"1\" class=\"dataframe\">\n",
       "  <thead>\n",
       "    <tr style=\"text-align: right;\">\n",
       "      <th></th>\n",
       "      <th>PassengerId</th>\n",
       "      <th>Survived</th>\n",
       "      <th>Pclass</th>\n",
       "      <th>Name</th>\n",
       "      <th>Sex</th>\n",
       "      <th>Age</th>\n",
       "      <th>SibSp</th>\n",
       "      <th>Parch</th>\n",
       "      <th>Ticket</th>\n",
       "      <th>Fare</th>\n",
       "      <th>Cabin</th>\n",
       "      <th>Embarked</th>\n",
       "    </tr>\n",
       "  </thead>\n",
       "  <tbody>\n",
       "    <tr>\n",
       "      <th>0</th>\n",
       "      <td>1</td>\n",
       "      <td>0</td>\n",
       "      <td>3</td>\n",
       "      <td>Braund, Mr. Owen Harris</td>\n",
       "      <td>male</td>\n",
       "      <td>22.0</td>\n",
       "      <td>1</td>\n",
       "      <td>0</td>\n",
       "      <td>A/5 21171</td>\n",
       "      <td>7.2500</td>\n",
       "      <td>NaN</td>\n",
       "      <td>S</td>\n",
       "    </tr>\n",
       "    <tr>\n",
       "      <th>1</th>\n",
       "      <td>2</td>\n",
       "      <td>1</td>\n",
       "      <td>1</td>\n",
       "      <td>Cumings, Mrs. John Bradley (Florence Briggs Th...</td>\n",
       "      <td>female</td>\n",
       "      <td>38.0</td>\n",
       "      <td>1</td>\n",
       "      <td>0</td>\n",
       "      <td>PC 17599</td>\n",
       "      <td>71.2833</td>\n",
       "      <td>C85</td>\n",
       "      <td>C</td>\n",
       "    </tr>\n",
       "    <tr>\n",
       "      <th>2</th>\n",
       "      <td>3</td>\n",
       "      <td>1</td>\n",
       "      <td>3</td>\n",
       "      <td>Heikkinen, Miss. Laina</td>\n",
       "      <td>female</td>\n",
       "      <td>26.0</td>\n",
       "      <td>0</td>\n",
       "      <td>0</td>\n",
       "      <td>STON/O2. 3101282</td>\n",
       "      <td>7.9250</td>\n",
       "      <td>NaN</td>\n",
       "      <td>S</td>\n",
       "    </tr>\n",
       "    <tr>\n",
       "      <th>3</th>\n",
       "      <td>4</td>\n",
       "      <td>1</td>\n",
       "      <td>1</td>\n",
       "      <td>Futrelle, Mrs. Jacques Heath (Lily May Peel)</td>\n",
       "      <td>female</td>\n",
       "      <td>35.0</td>\n",
       "      <td>1</td>\n",
       "      <td>0</td>\n",
       "      <td>113803</td>\n",
       "      <td>53.1000</td>\n",
       "      <td>C123</td>\n",
       "      <td>S</td>\n",
       "    </tr>\n",
       "    <tr>\n",
       "      <th>4</th>\n",
       "      <td>5</td>\n",
       "      <td>0</td>\n",
       "      <td>3</td>\n",
       "      <td>Allen, Mr. William Henry</td>\n",
       "      <td>male</td>\n",
       "      <td>35.0</td>\n",
       "      <td>0</td>\n",
       "      <td>0</td>\n",
       "      <td>373450</td>\n",
       "      <td>8.0500</td>\n",
       "      <td>NaN</td>\n",
       "      <td>S</td>\n",
       "    </tr>\n",
       "  </tbody>\n",
       "</table>\n",
       "</div>"
      ],
      "text/plain": [
       "   PassengerId  Survived  Pclass  \\\n",
       "0            1         0       3   \n",
       "1            2         1       1   \n",
       "2            3         1       3   \n",
       "3            4         1       1   \n",
       "4            5         0       3   \n",
       "\n",
       "                                                Name     Sex   Age  SibSp  \\\n",
       "0                            Braund, Mr. Owen Harris    male  22.0      1   \n",
       "1  Cumings, Mrs. John Bradley (Florence Briggs Th...  female  38.0      1   \n",
       "2                             Heikkinen, Miss. Laina  female  26.0      0   \n",
       "3       Futrelle, Mrs. Jacques Heath (Lily May Peel)  female  35.0      1   \n",
       "4                           Allen, Mr. William Henry    male  35.0      0   \n",
       "\n",
       "   Parch            Ticket     Fare Cabin Embarked  \n",
       "0      0         A/5 21171   7.2500   NaN        S  \n",
       "1      0          PC 17599  71.2833   C85        C  \n",
       "2      0  STON/O2. 3101282   7.9250   NaN        S  \n",
       "3      0            113803  53.1000  C123        S  \n",
       "4      0            373450   8.0500   NaN        S  "
      ]
     },
     "execution_count": 2,
     "metadata": {},
     "output_type": "execute_result"
    }
   ],
   "source": [
    "train_data = pd.read_csv(r'/kaggle/input/titanic/train.csv')\n",
    "\n",
    "train_data.head()\n"
   ]
  },
  {
   "cell_type": "code",
   "execution_count": 3,
   "id": "06ef3c4d",
   "metadata": {
    "execution": {
     "iopub.execute_input": "2024-06-14T00:28:37.691971Z",
     "iopub.status.busy": "2024-06-14T00:28:37.691550Z",
     "iopub.status.idle": "2024-06-14T00:28:37.700142Z",
     "shell.execute_reply": "2024-06-14T00:28:37.698853Z"
    },
    "papermill": {
     "duration": 0.036215,
     "end_time": "2024-06-14T00:28:37.702882",
     "exception": false,
     "start_time": "2024-06-14T00:28:37.666667",
     "status": "completed"
    },
    "tags": []
   },
   "outputs": [
    {
     "data": {
      "text/plain": [
       "(891, 12)"
      ]
     },
     "execution_count": 3,
     "metadata": {},
     "output_type": "execute_result"
    }
   ],
   "source": [
    "train_data.shape"
   ]
  },
  {
   "cell_type": "code",
   "execution_count": 4,
   "id": "959d9975",
   "metadata": {
    "execution": {
     "iopub.execute_input": "2024-06-14T00:28:37.751923Z",
     "iopub.status.busy": "2024-06-14T00:28:37.751321Z",
     "iopub.status.idle": "2024-06-14T00:28:37.782876Z",
     "shell.execute_reply": "2024-06-14T00:28:37.781384Z"
    },
    "papermill": {
     "duration": 0.059657,
     "end_time": "2024-06-14T00:28:37.786035",
     "exception": false,
     "start_time": "2024-06-14T00:28:37.726378",
     "status": "completed"
    },
    "tags": []
   },
   "outputs": [
    {
     "name": "stdout",
     "output_type": "stream",
     "text": [
      "<class 'pandas.core.frame.DataFrame'>\n",
      "RangeIndex: 891 entries, 0 to 890\n",
      "Data columns (total 12 columns):\n",
      " #   Column       Non-Null Count  Dtype  \n",
      "---  ------       --------------  -----  \n",
      " 0   PassengerId  891 non-null    int64  \n",
      " 1   Survived     891 non-null    int64  \n",
      " 2   Pclass       891 non-null    int64  \n",
      " 3   Name         891 non-null    object \n",
      " 4   Sex          891 non-null    object \n",
      " 5   Age          714 non-null    float64\n",
      " 6   SibSp        891 non-null    int64  \n",
      " 7   Parch        891 non-null    int64  \n",
      " 8   Ticket       891 non-null    object \n",
      " 9   Fare         891 non-null    float64\n",
      " 10  Cabin        204 non-null    object \n",
      " 11  Embarked     889 non-null    object \n",
      "dtypes: float64(2), int64(5), object(5)\n",
      "memory usage: 83.7+ KB\n"
     ]
    }
   ],
   "source": [
    "train_data.info()"
   ]
  },
  {
   "cell_type": "markdown",
   "id": "c22e767a",
   "metadata": {
    "papermill": {
     "duration": 0.023705,
     "end_time": "2024-06-14T00:28:37.834197",
     "exception": false,
     "start_time": "2024-06-14T00:28:37.810492",
     "status": "completed"
    },
    "tags": []
   },
   "source": [
    "### Test Data:"
   ]
  },
  {
   "cell_type": "code",
   "execution_count": 5,
   "id": "10fdf818",
   "metadata": {
    "execution": {
     "iopub.execute_input": "2024-06-14T00:28:37.882667Z",
     "iopub.status.busy": "2024-06-14T00:28:37.882128Z",
     "iopub.status.idle": "2024-06-14T00:28:37.912636Z",
     "shell.execute_reply": "2024-06-14T00:28:37.911168Z"
    },
    "papermill": {
     "duration": 0.057522,
     "end_time": "2024-06-14T00:28:37.915469",
     "exception": false,
     "start_time": "2024-06-14T00:28:37.857947",
     "status": "completed"
    },
    "tags": []
   },
   "outputs": [
    {
     "data": {
      "text/html": [
       "<div>\n",
       "<style scoped>\n",
       "    .dataframe tbody tr th:only-of-type {\n",
       "        vertical-align: middle;\n",
       "    }\n",
       "\n",
       "    .dataframe tbody tr th {\n",
       "        vertical-align: top;\n",
       "    }\n",
       "\n",
       "    .dataframe thead th {\n",
       "        text-align: right;\n",
       "    }\n",
       "</style>\n",
       "<table border=\"1\" class=\"dataframe\">\n",
       "  <thead>\n",
       "    <tr style=\"text-align: right;\">\n",
       "      <th></th>\n",
       "      <th>PassengerId</th>\n",
       "      <th>Pclass</th>\n",
       "      <th>Name</th>\n",
       "      <th>Sex</th>\n",
       "      <th>Age</th>\n",
       "      <th>SibSp</th>\n",
       "      <th>Parch</th>\n",
       "      <th>Ticket</th>\n",
       "      <th>Fare</th>\n",
       "      <th>Cabin</th>\n",
       "      <th>Embarked</th>\n",
       "    </tr>\n",
       "  </thead>\n",
       "  <tbody>\n",
       "    <tr>\n",
       "      <th>0</th>\n",
       "      <td>892</td>\n",
       "      <td>3</td>\n",
       "      <td>Kelly, Mr. James</td>\n",
       "      <td>male</td>\n",
       "      <td>34.5</td>\n",
       "      <td>0</td>\n",
       "      <td>0</td>\n",
       "      <td>330911</td>\n",
       "      <td>7.8292</td>\n",
       "      <td>NaN</td>\n",
       "      <td>Q</td>\n",
       "    </tr>\n",
       "    <tr>\n",
       "      <th>1</th>\n",
       "      <td>893</td>\n",
       "      <td>3</td>\n",
       "      <td>Wilkes, Mrs. James (Ellen Needs)</td>\n",
       "      <td>female</td>\n",
       "      <td>47.0</td>\n",
       "      <td>1</td>\n",
       "      <td>0</td>\n",
       "      <td>363272</td>\n",
       "      <td>7.0000</td>\n",
       "      <td>NaN</td>\n",
       "      <td>S</td>\n",
       "    </tr>\n",
       "    <tr>\n",
       "      <th>2</th>\n",
       "      <td>894</td>\n",
       "      <td>2</td>\n",
       "      <td>Myles, Mr. Thomas Francis</td>\n",
       "      <td>male</td>\n",
       "      <td>62.0</td>\n",
       "      <td>0</td>\n",
       "      <td>0</td>\n",
       "      <td>240276</td>\n",
       "      <td>9.6875</td>\n",
       "      <td>NaN</td>\n",
       "      <td>Q</td>\n",
       "    </tr>\n",
       "    <tr>\n",
       "      <th>3</th>\n",
       "      <td>895</td>\n",
       "      <td>3</td>\n",
       "      <td>Wirz, Mr. Albert</td>\n",
       "      <td>male</td>\n",
       "      <td>27.0</td>\n",
       "      <td>0</td>\n",
       "      <td>0</td>\n",
       "      <td>315154</td>\n",
       "      <td>8.6625</td>\n",
       "      <td>NaN</td>\n",
       "      <td>S</td>\n",
       "    </tr>\n",
       "    <tr>\n",
       "      <th>4</th>\n",
       "      <td>896</td>\n",
       "      <td>3</td>\n",
       "      <td>Hirvonen, Mrs. Alexander (Helga E Lindqvist)</td>\n",
       "      <td>female</td>\n",
       "      <td>22.0</td>\n",
       "      <td>1</td>\n",
       "      <td>1</td>\n",
       "      <td>3101298</td>\n",
       "      <td>12.2875</td>\n",
       "      <td>NaN</td>\n",
       "      <td>S</td>\n",
       "    </tr>\n",
       "  </tbody>\n",
       "</table>\n",
       "</div>"
      ],
      "text/plain": [
       "   PassengerId  Pclass                                          Name     Sex  \\\n",
       "0          892       3                              Kelly, Mr. James    male   \n",
       "1          893       3              Wilkes, Mrs. James (Ellen Needs)  female   \n",
       "2          894       2                     Myles, Mr. Thomas Francis    male   \n",
       "3          895       3                              Wirz, Mr. Albert    male   \n",
       "4          896       3  Hirvonen, Mrs. Alexander (Helga E Lindqvist)  female   \n",
       "\n",
       "    Age  SibSp  Parch   Ticket     Fare Cabin Embarked  \n",
       "0  34.5      0      0   330911   7.8292   NaN        Q  \n",
       "1  47.0      1      0   363272   7.0000   NaN        S  \n",
       "2  62.0      0      0   240276   9.6875   NaN        Q  \n",
       "3  27.0      0      0   315154   8.6625   NaN        S  \n",
       "4  22.0      1      1  3101298  12.2875   NaN        S  "
      ]
     },
     "execution_count": 5,
     "metadata": {},
     "output_type": "execute_result"
    }
   ],
   "source": [
    "test_data = pd.read_csv(r'/kaggle/input/titanic/test.csv')\n",
    "\n",
    "test_data.head()\n"
   ]
  },
  {
   "cell_type": "code",
   "execution_count": 6,
   "id": "e5981abc",
   "metadata": {
    "execution": {
     "iopub.execute_input": "2024-06-14T00:28:37.964260Z",
     "iopub.status.busy": "2024-06-14T00:28:37.963805Z",
     "iopub.status.idle": "2024-06-14T00:28:37.971638Z",
     "shell.execute_reply": "2024-06-14T00:28:37.970442Z"
    },
    "papermill": {
     "duration": 0.035108,
     "end_time": "2024-06-14T00:28:37.974224",
     "exception": false,
     "start_time": "2024-06-14T00:28:37.939116",
     "status": "completed"
    },
    "tags": []
   },
   "outputs": [
    {
     "data": {
      "text/plain": [
       "(418, 11)"
      ]
     },
     "execution_count": 6,
     "metadata": {},
     "output_type": "execute_result"
    }
   ],
   "source": [
    "test_data.shape"
   ]
  },
  {
   "cell_type": "code",
   "execution_count": 7,
   "id": "0e659f8b",
   "metadata": {
    "execution": {
     "iopub.execute_input": "2024-06-14T00:28:38.023158Z",
     "iopub.status.busy": "2024-06-14T00:28:38.022755Z",
     "iopub.status.idle": "2024-06-14T00:28:38.036222Z",
     "shell.execute_reply": "2024-06-14T00:28:38.035059Z"
    },
    "papermill": {
     "duration": 0.041788,
     "end_time": "2024-06-14T00:28:38.039536",
     "exception": false,
     "start_time": "2024-06-14T00:28:37.997748",
     "status": "completed"
    },
    "tags": []
   },
   "outputs": [
    {
     "name": "stdout",
     "output_type": "stream",
     "text": [
      "<class 'pandas.core.frame.DataFrame'>\n",
      "RangeIndex: 418 entries, 0 to 417\n",
      "Data columns (total 11 columns):\n",
      " #   Column       Non-Null Count  Dtype  \n",
      "---  ------       --------------  -----  \n",
      " 0   PassengerId  418 non-null    int64  \n",
      " 1   Pclass       418 non-null    int64  \n",
      " 2   Name         418 non-null    object \n",
      " 3   Sex          418 non-null    object \n",
      " 4   Age          332 non-null    float64\n",
      " 5   SibSp        418 non-null    int64  \n",
      " 6   Parch        418 non-null    int64  \n",
      " 7   Ticket       418 non-null    object \n",
      " 8   Fare         417 non-null    float64\n",
      " 9   Cabin        91 non-null     object \n",
      " 10  Embarked     418 non-null    object \n",
      "dtypes: float64(2), int64(4), object(5)\n",
      "memory usage: 36.0+ KB\n"
     ]
    }
   ],
   "source": [
    "test_data.info()"
   ]
  },
  {
   "cell_type": "markdown",
   "id": "bac69f70",
   "metadata": {
    "papermill": {
     "duration": 0.023117,
     "end_time": "2024-06-14T00:28:38.087122",
     "exception": false,
     "start_time": "2024-06-14T00:28:38.064005",
     "status": "completed"
    },
    "tags": []
   },
   "source": [
    "## Checking for Missing Values\n",
    "\n",
    "In this section, we will identify any missing values in the dataset. Missing values can affect the performance of machine learning models, so it's important to detect and handle them appropriately.\n",
    "\n",
    "We will use the `isnull()` function combined with `sum()` to get the count of missing values for each column.\n"
   ]
  },
  {
   "cell_type": "code",
   "execution_count": 8,
   "id": "da205a26",
   "metadata": {
    "execution": {
     "iopub.execute_input": "2024-06-14T00:28:38.137930Z",
     "iopub.status.busy": "2024-06-14T00:28:38.136795Z",
     "iopub.status.idle": "2024-06-14T00:28:38.147550Z",
     "shell.execute_reply": "2024-06-14T00:28:38.146237Z"
    },
    "papermill": {
     "duration": 0.039306,
     "end_time": "2024-06-14T00:28:38.150275",
     "exception": false,
     "start_time": "2024-06-14T00:28:38.110969",
     "status": "completed"
    },
    "tags": []
   },
   "outputs": [
    {
     "data": {
      "text/plain": [
       "PassengerId      0\n",
       "Survived         0\n",
       "Pclass           0\n",
       "Name             0\n",
       "Sex              0\n",
       "Age            177\n",
       "SibSp            0\n",
       "Parch            0\n",
       "Ticket           0\n",
       "Fare             0\n",
       "Cabin          687\n",
       "Embarked         2\n",
       "dtype: int64"
      ]
     },
     "execution_count": 8,
     "metadata": {},
     "output_type": "execute_result"
    }
   ],
   "source": [
    "train_data.isnull().sum()"
   ]
  },
  {
   "cell_type": "code",
   "execution_count": 9,
   "id": "f188e456",
   "metadata": {
    "execution": {
     "iopub.execute_input": "2024-06-14T00:28:38.200016Z",
     "iopub.status.busy": "2024-06-14T00:28:38.199617Z",
     "iopub.status.idle": "2024-06-14T00:28:38.209144Z",
     "shell.execute_reply": "2024-06-14T00:28:38.207981Z"
    },
    "papermill": {
     "duration": 0.036906,
     "end_time": "2024-06-14T00:28:38.211730",
     "exception": false,
     "start_time": "2024-06-14T00:28:38.174824",
     "status": "completed"
    },
    "tags": []
   },
   "outputs": [
    {
     "data": {
      "text/plain": [
       "PassengerId      0\n",
       "Pclass           0\n",
       "Name             0\n",
       "Sex              0\n",
       "Age             86\n",
       "SibSp            0\n",
       "Parch            0\n",
       "Ticket           0\n",
       "Fare             1\n",
       "Cabin          327\n",
       "Embarked         0\n",
       "dtype: int64"
      ]
     },
     "execution_count": 9,
     "metadata": {},
     "output_type": "execute_result"
    }
   ],
   "source": [
    "test_data.isnull().sum()"
   ]
  },
  {
   "cell_type": "markdown",
   "id": "84dde0be",
   "metadata": {
    "papermill": {
     "duration": 0.024196,
     "end_time": "2024-06-14T00:28:38.259469",
     "exception": false,
     "start_time": "2024-06-14T00:28:38.235273",
     "status": "completed"
    },
    "tags": []
   },
   "source": [
    "## Handling Missing Values"
   ]
  },
  {
   "cell_type": "markdown",
   "id": "4890b268",
   "metadata": {
    "papermill": {
     "duration": 0.023978,
     "end_time": "2024-06-14T00:28:38.307183",
     "exception": false,
     "start_time": "2024-06-14T00:28:38.283205",
     "status": "completed"
    },
    "tags": []
   },
   "source": [
    "### Age\n",
    "The `Age` column has approximately 20% missing values in both the training and test datasets. We will impute these missing values using the median age of the passengers."
   ]
  },
  {
   "cell_type": "code",
   "execution_count": 10,
   "id": "12bc7dd2",
   "metadata": {
    "execution": {
     "iopub.execute_input": "2024-06-14T00:28:38.356919Z",
     "iopub.status.busy": "2024-06-14T00:28:38.356142Z",
     "iopub.status.idle": "2024-06-14T00:28:38.373484Z",
     "shell.execute_reply": "2024-06-14T00:28:38.372421Z"
    },
    "papermill": {
     "duration": 0.045795,
     "end_time": "2024-06-14T00:28:38.376675",
     "exception": false,
     "start_time": "2024-06-14T00:28:38.330880",
     "status": "completed"
    },
    "tags": []
   },
   "outputs": [],
   "source": [
    "age_imputer = SimpleImputer(strategy='median')\n",
    "train_data['Age'] = age_imputer.fit_transform(train_data[['Age']])\n",
    "test_data['Age'] = age_imputer.transform(test_data[['Age']])\n"
   ]
  },
  {
   "cell_type": "markdown",
   "id": "652c0576",
   "metadata": {
    "papermill": {
     "duration": 0.023436,
     "end_time": "2024-06-14T00:28:38.425898",
     "exception": false,
     "start_time": "2024-06-14T00:28:38.402462",
     "status": "completed"
    },
    "tags": []
   },
   "source": [
    "### Cabin\n",
    "The `Cabin` column has a high percentage of missing values (77% in the training set and 78% in the test set). Instead of imputing, we will create a new feature indicating whether the cabin number is known and drop the original `Cabin` column."
   ]
  },
  {
   "cell_type": "code",
   "execution_count": 11,
   "id": "a5a26bca",
   "metadata": {
    "execution": {
     "iopub.execute_input": "2024-06-14T00:28:38.474521Z",
     "iopub.status.busy": "2024-06-14T00:28:38.474137Z",
     "iopub.status.idle": "2024-06-14T00:28:38.486634Z",
     "shell.execute_reply": "2024-06-14T00:28:38.485395Z"
    },
    "papermill": {
     "duration": 0.039739,
     "end_time": "2024-06-14T00:28:38.489071",
     "exception": false,
     "start_time": "2024-06-14T00:28:38.449332",
     "status": "completed"
    },
    "tags": []
   },
   "outputs": [],
   "source": [
    "train_data['CabinKnown'] = train_data['Cabin'].notnull().astype(int)\n",
    "test_data['CabinKnown'] = test_data['Cabin'].notnull().astype(int)\n",
    "\n",
    "train_data = train_data.drop(columns=['Cabin'])\n",
    "test_data = test_data.drop(columns=['Cabin'])"
   ]
  },
  {
   "cell_type": "markdown",
   "id": "31492bbc",
   "metadata": {
    "papermill": {
     "duration": 0.023511,
     "end_time": "2024-06-14T00:28:38.537659",
     "exception": false,
     "start_time": "2024-06-14T00:28:38.514148",
     "status": "completed"
    },
    "tags": []
   },
   "source": [
    "### Embarked\n",
    "The `Embarked` column has only 2 missing values in the training set. We will impute these missing values with the most frequent port of embarkation.\n"
   ]
  },
  {
   "cell_type": "code",
   "execution_count": 12,
   "id": "4d2de4cf",
   "metadata": {
    "execution": {
     "iopub.execute_input": "2024-06-14T00:28:38.650735Z",
     "iopub.status.busy": "2024-06-14T00:28:38.650313Z",
     "iopub.status.idle": "2024-06-14T00:28:38.661385Z",
     "shell.execute_reply": "2024-06-14T00:28:38.660205Z"
    },
    "papermill": {
     "duration": 0.102032,
     "end_time": "2024-06-14T00:28:38.664146",
     "exception": false,
     "start_time": "2024-06-14T00:28:38.562114",
     "status": "completed"
    },
    "tags": []
   },
   "outputs": [],
   "source": [
    "#Impute missing 'Embarked' values with the mode\n",
    "embarked_imputer = SimpleImputer(strategy='most_frequent')\n",
    "train_data['Embarked'] = embarked_imputer.fit_transform(train_data[['Embarked']]).ravel()"
   ]
  },
  {
   "cell_type": "markdown",
   "id": "08f97db2",
   "metadata": {
    "papermill": {
     "duration": 0.024225,
     "end_time": "2024-06-14T00:28:38.712743",
     "exception": false,
     "start_time": "2024-06-14T00:28:38.688518",
     "status": "completed"
    },
    "tags": []
   },
   "source": [
    "### Fare\n",
    "The `Fare` column has 1 missing value in the test set. We will impute this missing value with the median fare."
   ]
  },
  {
   "cell_type": "code",
   "execution_count": 13,
   "id": "34487e11",
   "metadata": {
    "execution": {
     "iopub.execute_input": "2024-06-14T00:28:38.762290Z",
     "iopub.status.busy": "2024-06-14T00:28:38.761877Z",
     "iopub.status.idle": "2024-06-14T00:28:38.772504Z",
     "shell.execute_reply": "2024-06-14T00:28:38.771512Z"
    },
    "papermill": {
     "duration": 0.038074,
     "end_time": "2024-06-14T00:28:38.775118",
     "exception": false,
     "start_time": "2024-06-14T00:28:38.737044",
     "status": "completed"
    },
    "tags": []
   },
   "outputs": [],
   "source": [
    "fare_imputer = SimpleImputer(strategy='median')\n",
    "test_data['Fare'] = fare_imputer.fit_transform(test_data[['Fare']])"
   ]
  },
  {
   "cell_type": "markdown",
   "id": "65b39db7",
   "metadata": {
    "papermill": {
     "duration": 0.024205,
     "end_time": "2024-06-14T00:28:38.823176",
     "exception": false,
     "start_time": "2024-06-14T00:28:38.798971",
     "status": "completed"
    },
    "tags": []
   },
   "source": [
    "## Checking for Missing Values\n",
    "\n",
    "Before proceeding with data preprocessing and feature engineering, it is essential to understand the extent of missing data in the dataset."
   ]
  },
  {
   "cell_type": "code",
   "execution_count": 14,
   "id": "e1139ed4",
   "metadata": {
    "execution": {
     "iopub.execute_input": "2024-06-14T00:28:38.874898Z",
     "iopub.status.busy": "2024-06-14T00:28:38.873887Z",
     "iopub.status.idle": "2024-06-14T00:28:38.882609Z",
     "shell.execute_reply": "2024-06-14T00:28:38.881314Z"
    },
    "papermill": {
     "duration": 0.037569,
     "end_time": "2024-06-14T00:28:38.886059",
     "exception": false,
     "start_time": "2024-06-14T00:28:38.848490",
     "status": "completed"
    },
    "tags": []
   },
   "outputs": [
    {
     "name": "stdout",
     "output_type": "stream",
     "text": [
      "PassengerId    0\n",
      "Survived       0\n",
      "Pclass         0\n",
      "Name           0\n",
      "Sex            0\n",
      "Age            0\n",
      "SibSp          0\n",
      "Parch          0\n",
      "Ticket         0\n",
      "Fare           0\n",
      "Embarked       0\n",
      "CabinKnown     0\n",
      "dtype: int64\n"
     ]
    }
   ],
   "source": [
    "print(train_data.isnull().sum())"
   ]
  },
  {
   "cell_type": "code",
   "execution_count": 15,
   "id": "84bed629",
   "metadata": {
    "execution": {
     "iopub.execute_input": "2024-06-14T00:28:38.935960Z",
     "iopub.status.busy": "2024-06-14T00:28:38.935521Z",
     "iopub.status.idle": "2024-06-14T00:28:38.943594Z",
     "shell.execute_reply": "2024-06-14T00:28:38.942283Z"
    },
    "papermill": {
     "duration": 0.036908,
     "end_time": "2024-06-14T00:28:38.947093",
     "exception": false,
     "start_time": "2024-06-14T00:28:38.910185",
     "status": "completed"
    },
    "tags": []
   },
   "outputs": [
    {
     "name": "stdout",
     "output_type": "stream",
     "text": [
      "PassengerId    0\n",
      "Pclass         0\n",
      "Name           0\n",
      "Sex            0\n",
      "Age            0\n",
      "SibSp          0\n",
      "Parch          0\n",
      "Ticket         0\n",
      "Fare           0\n",
      "Embarked       0\n",
      "CabinKnown     0\n",
      "dtype: int64\n"
     ]
    }
   ],
   "source": [
    "print(test_data.isnull().sum())"
   ]
  },
  {
   "cell_type": "markdown",
   "id": "a28af778",
   "metadata": {
    "papermill": {
     "duration": 0.023563,
     "end_time": "2024-06-14T00:28:38.994997",
     "exception": false,
     "start_time": "2024-06-14T00:28:38.971434",
     "status": "completed"
    },
    "tags": []
   },
   "source": [
    "## Feature Engineering\n",
    "\n",
    "Feature engineering involves transforming raw data into features that better represent the underlying problem to the predictive models, resulting in improved model performance.\n"
   ]
  },
  {
   "cell_type": "markdown",
   "id": "6130c492",
   "metadata": {
    "papermill": {
     "duration": 0.024243,
     "end_time": "2024-06-14T00:28:39.043222",
     "exception": false,
     "start_time": "2024-06-14T00:28:39.018979",
     "status": "completed"
    },
    "tags": []
   },
   "source": [
    "### Extracting Titles from Names"
   ]
  },
  {
   "cell_type": "code",
   "execution_count": 16,
   "id": "197730c2",
   "metadata": {
    "execution": {
     "iopub.execute_input": "2024-06-14T00:28:39.094225Z",
     "iopub.status.busy": "2024-06-14T00:28:39.093796Z",
     "iopub.status.idle": "2024-06-14T00:28:39.107130Z",
     "shell.execute_reply": "2024-06-14T00:28:39.105824Z"
    },
    "papermill": {
     "duration": 0.041617,
     "end_time": "2024-06-14T00:28:39.109894",
     "exception": false,
     "start_time": "2024-06-14T00:28:39.068277",
     "status": "completed"
    },
    "tags": []
   },
   "outputs": [],
   "source": [
    "train_test_dataset=[train_data,test_data]\n",
    "for dataset in train_test_dataset:\n",
    "    dataset['Title']=dataset['Name'].str.extract('([A-Za-z]+)\\.',expand=False)"
   ]
  },
  {
   "cell_type": "code",
   "execution_count": 17,
   "id": "de46b424",
   "metadata": {
    "execution": {
     "iopub.execute_input": "2024-06-14T00:28:39.163292Z",
     "iopub.status.busy": "2024-06-14T00:28:39.162878Z",
     "iopub.status.idle": "2024-06-14T00:28:39.172765Z",
     "shell.execute_reply": "2024-06-14T00:28:39.171498Z"
    },
    "papermill": {
     "duration": 0.039734,
     "end_time": "2024-06-14T00:28:39.175996",
     "exception": false,
     "start_time": "2024-06-14T00:28:39.136262",
     "status": "completed"
    },
    "tags": []
   },
   "outputs": [
    {
     "data": {
      "text/plain": [
       "Title\n",
       "Mr          517\n",
       "Miss        182\n",
       "Mrs         125\n",
       "Master       40\n",
       "Dr            7\n",
       "Rev           6\n",
       "Mlle          2\n",
       "Major         2\n",
       "Col           2\n",
       "Countess      1\n",
       "Capt          1\n",
       "Ms            1\n",
       "Sir           1\n",
       "Lady          1\n",
       "Mme           1\n",
       "Don           1\n",
       "Jonkheer      1\n",
       "Name: count, dtype: int64"
      ]
     },
     "execution_count": 17,
     "metadata": {},
     "output_type": "execute_result"
    }
   ],
   "source": [
    "train_data['Title'].value_counts()"
   ]
  },
  {
   "cell_type": "code",
   "execution_count": 18,
   "id": "6e9c716d",
   "metadata": {
    "execution": {
     "iopub.execute_input": "2024-06-14T00:28:39.229110Z",
     "iopub.status.busy": "2024-06-14T00:28:39.228679Z",
     "iopub.status.idle": "2024-06-14T00:28:39.238402Z",
     "shell.execute_reply": "2024-06-14T00:28:39.237187Z"
    },
    "papermill": {
     "duration": 0.039626,
     "end_time": "2024-06-14T00:28:39.240984",
     "exception": false,
     "start_time": "2024-06-14T00:28:39.201358",
     "status": "completed"
    },
    "tags": []
   },
   "outputs": [
    {
     "data": {
      "text/plain": [
       "Title\n",
       "Mr        240\n",
       "Miss       78\n",
       "Mrs        72\n",
       "Master     21\n",
       "Col         2\n",
       "Rev         2\n",
       "Ms          1\n",
       "Dr          1\n",
       "Dona        1\n",
       "Name: count, dtype: int64"
      ]
     },
     "execution_count": 18,
     "metadata": {},
     "output_type": "execute_result"
    }
   ],
   "source": [
    "test_data['Title'].value_counts()"
   ]
  },
  {
   "cell_type": "markdown",
   "id": "ab7d1014",
   "metadata": {
    "papermill": {
     "duration": 0.025413,
     "end_time": "2024-06-14T00:28:39.291177",
     "exception": false,
     "start_time": "2024-06-14T00:28:39.265764",
     "status": "completed"
    },
    "tags": []
   },
   "source": [
    "### Mapping Titles to Numerical Values"
   ]
  },
  {
   "cell_type": "code",
   "execution_count": 19,
   "id": "7b74f4f0",
   "metadata": {
    "execution": {
     "iopub.execute_input": "2024-06-14T00:28:39.344375Z",
     "iopub.status.busy": "2024-06-14T00:28:39.343910Z",
     "iopub.status.idle": "2024-06-14T00:28:39.353962Z",
     "shell.execute_reply": "2024-06-14T00:28:39.352713Z"
    },
    "papermill": {
     "duration": 0.039759,
     "end_time": "2024-06-14T00:28:39.356659",
     "exception": false,
     "start_time": "2024-06-14T00:28:39.316900",
     "status": "completed"
    },
    "tags": []
   },
   "outputs": [],
   "source": [
    "title_mapping={\"Mr\":0,\"Miss\":1,\"Mrs\":2,\"Master\":3,\"Dr\": 3, \"Rev\": 3, \"Col\": 3, \"Major\": 3, \"Mlle\": 3,\"Countess\": 3,\n",
    "                 \"Ms\": 3, \"Lady\": 3, \"Jonkheer\": 3, \"Don\": 3, \"Dona\" : 3, \"Mme\": 3,\"Capt\": 3,\"Sir\": 3 }\n",
    "for data in train_test_dataset:\n",
    "    data['Title']=data['Title'].map(title_mapping)"
   ]
  },
  {
   "cell_type": "code",
   "execution_count": 20,
   "id": "16978f94",
   "metadata": {
    "execution": {
     "iopub.execute_input": "2024-06-14T00:28:39.408800Z",
     "iopub.status.busy": "2024-06-14T00:28:39.408167Z",
     "iopub.status.idle": "2024-06-14T00:28:39.428082Z",
     "shell.execute_reply": "2024-06-14T00:28:39.426573Z"
    },
    "papermill": {
     "duration": 0.049647,
     "end_time": "2024-06-14T00:28:39.431100",
     "exception": false,
     "start_time": "2024-06-14T00:28:39.381453",
     "status": "completed"
    },
    "tags": []
   },
   "outputs": [
    {
     "data": {
      "text/html": [
       "<div>\n",
       "<style scoped>\n",
       "    .dataframe tbody tr th:only-of-type {\n",
       "        vertical-align: middle;\n",
       "    }\n",
       "\n",
       "    .dataframe tbody tr th {\n",
       "        vertical-align: top;\n",
       "    }\n",
       "\n",
       "    .dataframe thead th {\n",
       "        text-align: right;\n",
       "    }\n",
       "</style>\n",
       "<table border=\"1\" class=\"dataframe\">\n",
       "  <thead>\n",
       "    <tr style=\"text-align: right;\">\n",
       "      <th></th>\n",
       "      <th>PassengerId</th>\n",
       "      <th>Survived</th>\n",
       "      <th>Pclass</th>\n",
       "      <th>Name</th>\n",
       "      <th>Sex</th>\n",
       "      <th>Age</th>\n",
       "      <th>SibSp</th>\n",
       "      <th>Parch</th>\n",
       "      <th>Ticket</th>\n",
       "      <th>Fare</th>\n",
       "      <th>Embarked</th>\n",
       "      <th>CabinKnown</th>\n",
       "      <th>Title</th>\n",
       "    </tr>\n",
       "  </thead>\n",
       "  <tbody>\n",
       "    <tr>\n",
       "      <th>0</th>\n",
       "      <td>1</td>\n",
       "      <td>0</td>\n",
       "      <td>3</td>\n",
       "      <td>Braund, Mr. Owen Harris</td>\n",
       "      <td>male</td>\n",
       "      <td>22.0</td>\n",
       "      <td>1</td>\n",
       "      <td>0</td>\n",
       "      <td>A/5 21171</td>\n",
       "      <td>7.2500</td>\n",
       "      <td>S</td>\n",
       "      <td>0</td>\n",
       "      <td>0</td>\n",
       "    </tr>\n",
       "    <tr>\n",
       "      <th>1</th>\n",
       "      <td>2</td>\n",
       "      <td>1</td>\n",
       "      <td>1</td>\n",
       "      <td>Cumings, Mrs. John Bradley (Florence Briggs Th...</td>\n",
       "      <td>female</td>\n",
       "      <td>38.0</td>\n",
       "      <td>1</td>\n",
       "      <td>0</td>\n",
       "      <td>PC 17599</td>\n",
       "      <td>71.2833</td>\n",
       "      <td>C</td>\n",
       "      <td>1</td>\n",
       "      <td>2</td>\n",
       "    </tr>\n",
       "    <tr>\n",
       "      <th>2</th>\n",
       "      <td>3</td>\n",
       "      <td>1</td>\n",
       "      <td>3</td>\n",
       "      <td>Heikkinen, Miss. Laina</td>\n",
       "      <td>female</td>\n",
       "      <td>26.0</td>\n",
       "      <td>0</td>\n",
       "      <td>0</td>\n",
       "      <td>STON/O2. 3101282</td>\n",
       "      <td>7.9250</td>\n",
       "      <td>S</td>\n",
       "      <td>0</td>\n",
       "      <td>1</td>\n",
       "    </tr>\n",
       "    <tr>\n",
       "      <th>3</th>\n",
       "      <td>4</td>\n",
       "      <td>1</td>\n",
       "      <td>1</td>\n",
       "      <td>Futrelle, Mrs. Jacques Heath (Lily May Peel)</td>\n",
       "      <td>female</td>\n",
       "      <td>35.0</td>\n",
       "      <td>1</td>\n",
       "      <td>0</td>\n",
       "      <td>113803</td>\n",
       "      <td>53.1000</td>\n",
       "      <td>S</td>\n",
       "      <td>1</td>\n",
       "      <td>2</td>\n",
       "    </tr>\n",
       "    <tr>\n",
       "      <th>4</th>\n",
       "      <td>5</td>\n",
       "      <td>0</td>\n",
       "      <td>3</td>\n",
       "      <td>Allen, Mr. William Henry</td>\n",
       "      <td>male</td>\n",
       "      <td>35.0</td>\n",
       "      <td>0</td>\n",
       "      <td>0</td>\n",
       "      <td>373450</td>\n",
       "      <td>8.0500</td>\n",
       "      <td>S</td>\n",
       "      <td>0</td>\n",
       "      <td>0</td>\n",
       "    </tr>\n",
       "  </tbody>\n",
       "</table>\n",
       "</div>"
      ],
      "text/plain": [
       "   PassengerId  Survived  Pclass  \\\n",
       "0            1         0       3   \n",
       "1            2         1       1   \n",
       "2            3         1       3   \n",
       "3            4         1       1   \n",
       "4            5         0       3   \n",
       "\n",
       "                                                Name     Sex   Age  SibSp  \\\n",
       "0                            Braund, Mr. Owen Harris    male  22.0      1   \n",
       "1  Cumings, Mrs. John Bradley (Florence Briggs Th...  female  38.0      1   \n",
       "2                             Heikkinen, Miss. Laina  female  26.0      0   \n",
       "3       Futrelle, Mrs. Jacques Heath (Lily May Peel)  female  35.0      1   \n",
       "4                           Allen, Mr. William Henry    male  35.0      0   \n",
       "\n",
       "   Parch            Ticket     Fare Embarked  CabinKnown  Title  \n",
       "0      0         A/5 21171   7.2500        S           0      0  \n",
       "1      0          PC 17599  71.2833        C           1      2  \n",
       "2      0  STON/O2. 3101282   7.9250        S           0      1  \n",
       "3      0            113803  53.1000        S           1      2  \n",
       "4      0            373450   8.0500        S           0      0  "
      ]
     },
     "execution_count": 20,
     "metadata": {},
     "output_type": "execute_result"
    }
   ],
   "source": [
    "train_data.head()"
   ]
  },
  {
   "cell_type": "code",
   "execution_count": 21,
   "id": "0e86a478",
   "metadata": {
    "execution": {
     "iopub.execute_input": "2024-06-14T00:28:39.481999Z",
     "iopub.status.busy": "2024-06-14T00:28:39.481631Z",
     "iopub.status.idle": "2024-06-14T00:28:39.499216Z",
     "shell.execute_reply": "2024-06-14T00:28:39.497883Z"
    },
    "papermill": {
     "duration": 0.045932,
     "end_time": "2024-06-14T00:28:39.501613",
     "exception": false,
     "start_time": "2024-06-14T00:28:39.455681",
     "status": "completed"
    },
    "tags": []
   },
   "outputs": [
    {
     "data": {
      "text/html": [
       "<div>\n",
       "<style scoped>\n",
       "    .dataframe tbody tr th:only-of-type {\n",
       "        vertical-align: middle;\n",
       "    }\n",
       "\n",
       "    .dataframe tbody tr th {\n",
       "        vertical-align: top;\n",
       "    }\n",
       "\n",
       "    .dataframe thead th {\n",
       "        text-align: right;\n",
       "    }\n",
       "</style>\n",
       "<table border=\"1\" class=\"dataframe\">\n",
       "  <thead>\n",
       "    <tr style=\"text-align: right;\">\n",
       "      <th></th>\n",
       "      <th>PassengerId</th>\n",
       "      <th>Pclass</th>\n",
       "      <th>Name</th>\n",
       "      <th>Sex</th>\n",
       "      <th>Age</th>\n",
       "      <th>SibSp</th>\n",
       "      <th>Parch</th>\n",
       "      <th>Ticket</th>\n",
       "      <th>Fare</th>\n",
       "      <th>Embarked</th>\n",
       "      <th>CabinKnown</th>\n",
       "      <th>Title</th>\n",
       "    </tr>\n",
       "  </thead>\n",
       "  <tbody>\n",
       "    <tr>\n",
       "      <th>0</th>\n",
       "      <td>892</td>\n",
       "      <td>3</td>\n",
       "      <td>Kelly, Mr. James</td>\n",
       "      <td>male</td>\n",
       "      <td>34.5</td>\n",
       "      <td>0</td>\n",
       "      <td>0</td>\n",
       "      <td>330911</td>\n",
       "      <td>7.8292</td>\n",
       "      <td>Q</td>\n",
       "      <td>0</td>\n",
       "      <td>0</td>\n",
       "    </tr>\n",
       "    <tr>\n",
       "      <th>1</th>\n",
       "      <td>893</td>\n",
       "      <td>3</td>\n",
       "      <td>Wilkes, Mrs. James (Ellen Needs)</td>\n",
       "      <td>female</td>\n",
       "      <td>47.0</td>\n",
       "      <td>1</td>\n",
       "      <td>0</td>\n",
       "      <td>363272</td>\n",
       "      <td>7.0000</td>\n",
       "      <td>S</td>\n",
       "      <td>0</td>\n",
       "      <td>2</td>\n",
       "    </tr>\n",
       "    <tr>\n",
       "      <th>2</th>\n",
       "      <td>894</td>\n",
       "      <td>2</td>\n",
       "      <td>Myles, Mr. Thomas Francis</td>\n",
       "      <td>male</td>\n",
       "      <td>62.0</td>\n",
       "      <td>0</td>\n",
       "      <td>0</td>\n",
       "      <td>240276</td>\n",
       "      <td>9.6875</td>\n",
       "      <td>Q</td>\n",
       "      <td>0</td>\n",
       "      <td>0</td>\n",
       "    </tr>\n",
       "    <tr>\n",
       "      <th>3</th>\n",
       "      <td>895</td>\n",
       "      <td>3</td>\n",
       "      <td>Wirz, Mr. Albert</td>\n",
       "      <td>male</td>\n",
       "      <td>27.0</td>\n",
       "      <td>0</td>\n",
       "      <td>0</td>\n",
       "      <td>315154</td>\n",
       "      <td>8.6625</td>\n",
       "      <td>S</td>\n",
       "      <td>0</td>\n",
       "      <td>0</td>\n",
       "    </tr>\n",
       "    <tr>\n",
       "      <th>4</th>\n",
       "      <td>896</td>\n",
       "      <td>3</td>\n",
       "      <td>Hirvonen, Mrs. Alexander (Helga E Lindqvist)</td>\n",
       "      <td>female</td>\n",
       "      <td>22.0</td>\n",
       "      <td>1</td>\n",
       "      <td>1</td>\n",
       "      <td>3101298</td>\n",
       "      <td>12.2875</td>\n",
       "      <td>S</td>\n",
       "      <td>0</td>\n",
       "      <td>2</td>\n",
       "    </tr>\n",
       "  </tbody>\n",
       "</table>\n",
       "</div>"
      ],
      "text/plain": [
       "   PassengerId  Pclass                                          Name     Sex  \\\n",
       "0          892       3                              Kelly, Mr. James    male   \n",
       "1          893       3              Wilkes, Mrs. James (Ellen Needs)  female   \n",
       "2          894       2                     Myles, Mr. Thomas Francis    male   \n",
       "3          895       3                              Wirz, Mr. Albert    male   \n",
       "4          896       3  Hirvonen, Mrs. Alexander (Helga E Lindqvist)  female   \n",
       "\n",
       "    Age  SibSp  Parch   Ticket     Fare Embarked  CabinKnown  Title  \n",
       "0  34.5      0      0   330911   7.8292        Q           0      0  \n",
       "1  47.0      1      0   363272   7.0000        S           0      2  \n",
       "2  62.0      0      0   240276   9.6875        Q           0      0  \n",
       "3  27.0      0      0   315154   8.6625        S           0      0  \n",
       "4  22.0      1      1  3101298  12.2875        S           0      2  "
      ]
     },
     "execution_count": 21,
     "metadata": {},
     "output_type": "execute_result"
    }
   ],
   "source": [
    "test_data.head()"
   ]
  },
  {
   "cell_type": "markdown",
   "id": "2bad050b",
   "metadata": {
    "papermill": {
     "duration": 0.025988,
     "end_time": "2024-06-14T00:28:39.554686",
     "exception": false,
     "start_time": "2024-06-14T00:28:39.528698",
     "status": "completed"
    },
    "tags": []
   },
   "source": [
    "### Dropping the Original Name Column"
   ]
  },
  {
   "cell_type": "code",
   "execution_count": 22,
   "id": "e89ef788",
   "metadata": {
    "execution": {
     "iopub.execute_input": "2024-06-14T00:28:39.607820Z",
     "iopub.status.busy": "2024-06-14T00:28:39.607436Z",
     "iopub.status.idle": "2024-06-14T00:28:39.615704Z",
     "shell.execute_reply": "2024-06-14T00:28:39.614359Z"
    },
    "papermill": {
     "duration": 0.037542,
     "end_time": "2024-06-14T00:28:39.618435",
     "exception": false,
     "start_time": "2024-06-14T00:28:39.580893",
     "status": "completed"
    },
    "tags": []
   },
   "outputs": [],
   "source": [
    "train_data.drop('Name',axis=1,inplace=True)\n",
    "test_data.drop('Name',axis=1,inplace=True)"
   ]
  },
  {
   "cell_type": "code",
   "execution_count": 23,
   "id": "20916eda",
   "metadata": {
    "execution": {
     "iopub.execute_input": "2024-06-14T00:28:39.670412Z",
     "iopub.status.busy": "2024-06-14T00:28:39.669984Z",
     "iopub.status.idle": "2024-06-14T00:28:39.689635Z",
     "shell.execute_reply": "2024-06-14T00:28:39.688431Z"
    },
    "papermill": {
     "duration": 0.049035,
     "end_time": "2024-06-14T00:28:39.692859",
     "exception": false,
     "start_time": "2024-06-14T00:28:39.643824",
     "status": "completed"
    },
    "tags": []
   },
   "outputs": [
    {
     "data": {
      "text/html": [
       "<div>\n",
       "<style scoped>\n",
       "    .dataframe tbody tr th:only-of-type {\n",
       "        vertical-align: middle;\n",
       "    }\n",
       "\n",
       "    .dataframe tbody tr th {\n",
       "        vertical-align: top;\n",
       "    }\n",
       "\n",
       "    .dataframe thead th {\n",
       "        text-align: right;\n",
       "    }\n",
       "</style>\n",
       "<table border=\"1\" class=\"dataframe\">\n",
       "  <thead>\n",
       "    <tr style=\"text-align: right;\">\n",
       "      <th></th>\n",
       "      <th>PassengerId</th>\n",
       "      <th>Survived</th>\n",
       "      <th>Pclass</th>\n",
       "      <th>Sex</th>\n",
       "      <th>Age</th>\n",
       "      <th>SibSp</th>\n",
       "      <th>Parch</th>\n",
       "      <th>Ticket</th>\n",
       "      <th>Fare</th>\n",
       "      <th>Embarked</th>\n",
       "      <th>CabinKnown</th>\n",
       "      <th>Title</th>\n",
       "    </tr>\n",
       "  </thead>\n",
       "  <tbody>\n",
       "    <tr>\n",
       "      <th>0</th>\n",
       "      <td>1</td>\n",
       "      <td>0</td>\n",
       "      <td>3</td>\n",
       "      <td>male</td>\n",
       "      <td>22.0</td>\n",
       "      <td>1</td>\n",
       "      <td>0</td>\n",
       "      <td>A/5 21171</td>\n",
       "      <td>7.2500</td>\n",
       "      <td>S</td>\n",
       "      <td>0</td>\n",
       "      <td>0</td>\n",
       "    </tr>\n",
       "    <tr>\n",
       "      <th>1</th>\n",
       "      <td>2</td>\n",
       "      <td>1</td>\n",
       "      <td>1</td>\n",
       "      <td>female</td>\n",
       "      <td>38.0</td>\n",
       "      <td>1</td>\n",
       "      <td>0</td>\n",
       "      <td>PC 17599</td>\n",
       "      <td>71.2833</td>\n",
       "      <td>C</td>\n",
       "      <td>1</td>\n",
       "      <td>2</td>\n",
       "    </tr>\n",
       "    <tr>\n",
       "      <th>2</th>\n",
       "      <td>3</td>\n",
       "      <td>1</td>\n",
       "      <td>3</td>\n",
       "      <td>female</td>\n",
       "      <td>26.0</td>\n",
       "      <td>0</td>\n",
       "      <td>0</td>\n",
       "      <td>STON/O2. 3101282</td>\n",
       "      <td>7.9250</td>\n",
       "      <td>S</td>\n",
       "      <td>0</td>\n",
       "      <td>1</td>\n",
       "    </tr>\n",
       "    <tr>\n",
       "      <th>3</th>\n",
       "      <td>4</td>\n",
       "      <td>1</td>\n",
       "      <td>1</td>\n",
       "      <td>female</td>\n",
       "      <td>35.0</td>\n",
       "      <td>1</td>\n",
       "      <td>0</td>\n",
       "      <td>113803</td>\n",
       "      <td>53.1000</td>\n",
       "      <td>S</td>\n",
       "      <td>1</td>\n",
       "      <td>2</td>\n",
       "    </tr>\n",
       "    <tr>\n",
       "      <th>4</th>\n",
       "      <td>5</td>\n",
       "      <td>0</td>\n",
       "      <td>3</td>\n",
       "      <td>male</td>\n",
       "      <td>35.0</td>\n",
       "      <td>0</td>\n",
       "      <td>0</td>\n",
       "      <td>373450</td>\n",
       "      <td>8.0500</td>\n",
       "      <td>S</td>\n",
       "      <td>0</td>\n",
       "      <td>0</td>\n",
       "    </tr>\n",
       "  </tbody>\n",
       "</table>\n",
       "</div>"
      ],
      "text/plain": [
       "   PassengerId  Survived  Pclass     Sex   Age  SibSp  Parch  \\\n",
       "0            1         0       3    male  22.0      1      0   \n",
       "1            2         1       1  female  38.0      1      0   \n",
       "2            3         1       3  female  26.0      0      0   \n",
       "3            4         1       1  female  35.0      1      0   \n",
       "4            5         0       3    male  35.0      0      0   \n",
       "\n",
       "             Ticket     Fare Embarked  CabinKnown  Title  \n",
       "0         A/5 21171   7.2500        S           0      0  \n",
       "1          PC 17599  71.2833        C           1      2  \n",
       "2  STON/O2. 3101282   7.9250        S           0      1  \n",
       "3            113803  53.1000        S           1      2  \n",
       "4            373450   8.0500        S           0      0  "
      ]
     },
     "execution_count": 23,
     "metadata": {},
     "output_type": "execute_result"
    }
   ],
   "source": [
    "train_data.head()"
   ]
  },
  {
   "cell_type": "markdown",
   "id": "63046104",
   "metadata": {
    "papermill": {
     "duration": 0.025135,
     "end_time": "2024-06-14T00:28:39.743739",
     "exception": false,
     "start_time": "2024-06-14T00:28:39.718604",
     "status": "completed"
    },
    "tags": []
   },
   "source": [
    "### Mapping Sex to Numerical Values"
   ]
  },
  {
   "cell_type": "code",
   "execution_count": 24,
   "id": "e990383f",
   "metadata": {
    "execution": {
     "iopub.execute_input": "2024-06-14T00:28:39.796105Z",
     "iopub.status.busy": "2024-06-14T00:28:39.795642Z",
     "iopub.status.idle": "2024-06-14T00:28:39.804902Z",
     "shell.execute_reply": "2024-06-14T00:28:39.803543Z"
    },
    "papermill": {
     "duration": 0.038843,
     "end_time": "2024-06-14T00:28:39.807775",
     "exception": false,
     "start_time": "2024-06-14T00:28:39.768932",
     "status": "completed"
    },
    "tags": []
   },
   "outputs": [],
   "source": [
    "Sexe_mapping={\"male\":0,\"female\":1}\n",
    "for data in train_test_dataset:\n",
    "    data['Sex']=data['Sex'].map(Sexe_mapping)"
   ]
  },
  {
   "cell_type": "code",
   "execution_count": 25,
   "id": "3387458c",
   "metadata": {
    "execution": {
     "iopub.execute_input": "2024-06-14T00:28:39.860920Z",
     "iopub.status.busy": "2024-06-14T00:28:39.860483Z",
     "iopub.status.idle": "2024-06-14T00:28:39.878951Z",
     "shell.execute_reply": "2024-06-14T00:28:39.877816Z"
    },
    "papermill": {
     "duration": 0.048893,
     "end_time": "2024-06-14T00:28:39.881983",
     "exception": false,
     "start_time": "2024-06-14T00:28:39.833090",
     "status": "completed"
    },
    "tags": []
   },
   "outputs": [
    {
     "data": {
      "text/html": [
       "<div>\n",
       "<style scoped>\n",
       "    .dataframe tbody tr th:only-of-type {\n",
       "        vertical-align: middle;\n",
       "    }\n",
       "\n",
       "    .dataframe tbody tr th {\n",
       "        vertical-align: top;\n",
       "    }\n",
       "\n",
       "    .dataframe thead th {\n",
       "        text-align: right;\n",
       "    }\n",
       "</style>\n",
       "<table border=\"1\" class=\"dataframe\">\n",
       "  <thead>\n",
       "    <tr style=\"text-align: right;\">\n",
       "      <th></th>\n",
       "      <th>PassengerId</th>\n",
       "      <th>Survived</th>\n",
       "      <th>Pclass</th>\n",
       "      <th>Sex</th>\n",
       "      <th>Age</th>\n",
       "      <th>SibSp</th>\n",
       "      <th>Parch</th>\n",
       "      <th>Ticket</th>\n",
       "      <th>Fare</th>\n",
       "      <th>Embarked</th>\n",
       "      <th>CabinKnown</th>\n",
       "      <th>Title</th>\n",
       "    </tr>\n",
       "  </thead>\n",
       "  <tbody>\n",
       "    <tr>\n",
       "      <th>0</th>\n",
       "      <td>1</td>\n",
       "      <td>0</td>\n",
       "      <td>3</td>\n",
       "      <td>0</td>\n",
       "      <td>22.0</td>\n",
       "      <td>1</td>\n",
       "      <td>0</td>\n",
       "      <td>A/5 21171</td>\n",
       "      <td>7.2500</td>\n",
       "      <td>S</td>\n",
       "      <td>0</td>\n",
       "      <td>0</td>\n",
       "    </tr>\n",
       "    <tr>\n",
       "      <th>1</th>\n",
       "      <td>2</td>\n",
       "      <td>1</td>\n",
       "      <td>1</td>\n",
       "      <td>1</td>\n",
       "      <td>38.0</td>\n",
       "      <td>1</td>\n",
       "      <td>0</td>\n",
       "      <td>PC 17599</td>\n",
       "      <td>71.2833</td>\n",
       "      <td>C</td>\n",
       "      <td>1</td>\n",
       "      <td>2</td>\n",
       "    </tr>\n",
       "    <tr>\n",
       "      <th>2</th>\n",
       "      <td>3</td>\n",
       "      <td>1</td>\n",
       "      <td>3</td>\n",
       "      <td>1</td>\n",
       "      <td>26.0</td>\n",
       "      <td>0</td>\n",
       "      <td>0</td>\n",
       "      <td>STON/O2. 3101282</td>\n",
       "      <td>7.9250</td>\n",
       "      <td>S</td>\n",
       "      <td>0</td>\n",
       "      <td>1</td>\n",
       "    </tr>\n",
       "    <tr>\n",
       "      <th>3</th>\n",
       "      <td>4</td>\n",
       "      <td>1</td>\n",
       "      <td>1</td>\n",
       "      <td>1</td>\n",
       "      <td>35.0</td>\n",
       "      <td>1</td>\n",
       "      <td>0</td>\n",
       "      <td>113803</td>\n",
       "      <td>53.1000</td>\n",
       "      <td>S</td>\n",
       "      <td>1</td>\n",
       "      <td>2</td>\n",
       "    </tr>\n",
       "    <tr>\n",
       "      <th>4</th>\n",
       "      <td>5</td>\n",
       "      <td>0</td>\n",
       "      <td>3</td>\n",
       "      <td>0</td>\n",
       "      <td>35.0</td>\n",
       "      <td>0</td>\n",
       "      <td>0</td>\n",
       "      <td>373450</td>\n",
       "      <td>8.0500</td>\n",
       "      <td>S</td>\n",
       "      <td>0</td>\n",
       "      <td>0</td>\n",
       "    </tr>\n",
       "  </tbody>\n",
       "</table>\n",
       "</div>"
      ],
      "text/plain": [
       "   PassengerId  Survived  Pclass  Sex   Age  SibSp  Parch            Ticket  \\\n",
       "0            1         0       3    0  22.0      1      0         A/5 21171   \n",
       "1            2         1       1    1  38.0      1      0          PC 17599   \n",
       "2            3         1       3    1  26.0      0      0  STON/O2. 3101282   \n",
       "3            4         1       1    1  35.0      1      0            113803   \n",
       "4            5         0       3    0  35.0      0      0            373450   \n",
       "\n",
       "      Fare Embarked  CabinKnown  Title  \n",
       "0   7.2500        S           0      0  \n",
       "1  71.2833        C           1      2  \n",
       "2   7.9250        S           0      1  \n",
       "3  53.1000        S           1      2  \n",
       "4   8.0500        S           0      0  "
      ]
     },
     "execution_count": 25,
     "metadata": {},
     "output_type": "execute_result"
    }
   ],
   "source": [
    "train_data.head()"
   ]
  },
  {
   "cell_type": "markdown",
   "id": "153bf9e0",
   "metadata": {
    "papermill": {
     "duration": 0.026375,
     "end_time": "2024-06-14T00:28:39.934174",
     "exception": false,
     "start_time": "2024-06-14T00:28:39.907799",
     "status": "completed"
    },
    "tags": []
   },
   "source": [
    "### Mapping Age to Numerical Values"
   ]
  },
  {
   "cell_type": "code",
   "execution_count": 26,
   "id": "2ea7a653",
   "metadata": {
    "execution": {
     "iopub.execute_input": "2024-06-14T00:28:39.989162Z",
     "iopub.status.busy": "2024-06-14T00:28:39.988707Z",
     "iopub.status.idle": "2024-06-14T00:28:40.006387Z",
     "shell.execute_reply": "2024-06-14T00:28:40.004761Z"
    },
    "papermill": {
     "duration": 0.048662,
     "end_time": "2024-06-14T00:28:40.009339",
     "exception": false,
     "start_time": "2024-06-14T00:28:39.960677",
     "status": "completed"
    },
    "tags": []
   },
   "outputs": [],
   "source": [
    "for dataset in train_test_dataset:\n",
    "    dataset.loc[ dataset['Age'] <= 16, 'Age'] = 0\n",
    "    dataset.loc[(dataset['Age'] > 16) & (dataset['Age'] <= 26), 'Age'] = 1\n",
    "    dataset.loc[(dataset['Age'] > 26) & (dataset['Age'] <= 36), 'Age'] = 2\n",
    "    dataset.loc[(dataset['Age'] > 36) & (dataset['Age'] <= 62), 'Age'] = 3\n",
    "    dataset.loc[ dataset['Age'] > 62, 'Age'] = 4"
   ]
  },
  {
   "cell_type": "code",
   "execution_count": 27,
   "id": "f2415e4b",
   "metadata": {
    "execution": {
     "iopub.execute_input": "2024-06-14T00:28:40.064248Z",
     "iopub.status.busy": "2024-06-14T00:28:40.063812Z",
     "iopub.status.idle": "2024-06-14T00:28:40.081676Z",
     "shell.execute_reply": "2024-06-14T00:28:40.080018Z"
    },
    "papermill": {
     "duration": 0.048255,
     "end_time": "2024-06-14T00:28:40.084415",
     "exception": false,
     "start_time": "2024-06-14T00:28:40.036160",
     "status": "completed"
    },
    "tags": []
   },
   "outputs": [
    {
     "data": {
      "text/html": [
       "<div>\n",
       "<style scoped>\n",
       "    .dataframe tbody tr th:only-of-type {\n",
       "        vertical-align: middle;\n",
       "    }\n",
       "\n",
       "    .dataframe tbody tr th {\n",
       "        vertical-align: top;\n",
       "    }\n",
       "\n",
       "    .dataframe thead th {\n",
       "        text-align: right;\n",
       "    }\n",
       "</style>\n",
       "<table border=\"1\" class=\"dataframe\">\n",
       "  <thead>\n",
       "    <tr style=\"text-align: right;\">\n",
       "      <th></th>\n",
       "      <th>PassengerId</th>\n",
       "      <th>Survived</th>\n",
       "      <th>Pclass</th>\n",
       "      <th>Sex</th>\n",
       "      <th>Age</th>\n",
       "      <th>SibSp</th>\n",
       "      <th>Parch</th>\n",
       "      <th>Ticket</th>\n",
       "      <th>Fare</th>\n",
       "      <th>Embarked</th>\n",
       "      <th>CabinKnown</th>\n",
       "      <th>Title</th>\n",
       "    </tr>\n",
       "  </thead>\n",
       "  <tbody>\n",
       "    <tr>\n",
       "      <th>0</th>\n",
       "      <td>1</td>\n",
       "      <td>0</td>\n",
       "      <td>3</td>\n",
       "      <td>0</td>\n",
       "      <td>1.0</td>\n",
       "      <td>1</td>\n",
       "      <td>0</td>\n",
       "      <td>A/5 21171</td>\n",
       "      <td>7.2500</td>\n",
       "      <td>S</td>\n",
       "      <td>0</td>\n",
       "      <td>0</td>\n",
       "    </tr>\n",
       "    <tr>\n",
       "      <th>1</th>\n",
       "      <td>2</td>\n",
       "      <td>1</td>\n",
       "      <td>1</td>\n",
       "      <td>1</td>\n",
       "      <td>3.0</td>\n",
       "      <td>1</td>\n",
       "      <td>0</td>\n",
       "      <td>PC 17599</td>\n",
       "      <td>71.2833</td>\n",
       "      <td>C</td>\n",
       "      <td>1</td>\n",
       "      <td>2</td>\n",
       "    </tr>\n",
       "    <tr>\n",
       "      <th>2</th>\n",
       "      <td>3</td>\n",
       "      <td>1</td>\n",
       "      <td>3</td>\n",
       "      <td>1</td>\n",
       "      <td>1.0</td>\n",
       "      <td>0</td>\n",
       "      <td>0</td>\n",
       "      <td>STON/O2. 3101282</td>\n",
       "      <td>7.9250</td>\n",
       "      <td>S</td>\n",
       "      <td>0</td>\n",
       "      <td>1</td>\n",
       "    </tr>\n",
       "    <tr>\n",
       "      <th>3</th>\n",
       "      <td>4</td>\n",
       "      <td>1</td>\n",
       "      <td>1</td>\n",
       "      <td>1</td>\n",
       "      <td>2.0</td>\n",
       "      <td>1</td>\n",
       "      <td>0</td>\n",
       "      <td>113803</td>\n",
       "      <td>53.1000</td>\n",
       "      <td>S</td>\n",
       "      <td>1</td>\n",
       "      <td>2</td>\n",
       "    </tr>\n",
       "    <tr>\n",
       "      <th>4</th>\n",
       "      <td>5</td>\n",
       "      <td>0</td>\n",
       "      <td>3</td>\n",
       "      <td>0</td>\n",
       "      <td>2.0</td>\n",
       "      <td>0</td>\n",
       "      <td>0</td>\n",
       "      <td>373450</td>\n",
       "      <td>8.0500</td>\n",
       "      <td>S</td>\n",
       "      <td>0</td>\n",
       "      <td>0</td>\n",
       "    </tr>\n",
       "  </tbody>\n",
       "</table>\n",
       "</div>"
      ],
      "text/plain": [
       "   PassengerId  Survived  Pclass  Sex  Age  SibSp  Parch            Ticket  \\\n",
       "0            1         0       3    0  1.0      1      0         A/5 21171   \n",
       "1            2         1       1    1  3.0      1      0          PC 17599   \n",
       "2            3         1       3    1  1.0      0      0  STON/O2. 3101282   \n",
       "3            4         1       1    1  2.0      1      0            113803   \n",
       "4            5         0       3    0  2.0      0      0            373450   \n",
       "\n",
       "      Fare Embarked  CabinKnown  Title  \n",
       "0   7.2500        S           0      0  \n",
       "1  71.2833        C           1      2  \n",
       "2   7.9250        S           0      1  \n",
       "3  53.1000        S           1      2  \n",
       "4   8.0500        S           0      0  "
      ]
     },
     "execution_count": 27,
     "metadata": {},
     "output_type": "execute_result"
    }
   ],
   "source": [
    "train_data.head()"
   ]
  },
  {
   "cell_type": "markdown",
   "id": "b47472d6",
   "metadata": {
    "papermill": {
     "duration": 0.026114,
     "end_time": "2024-06-14T00:28:40.136555",
     "exception": false,
     "start_time": "2024-06-14T00:28:40.110441",
     "status": "completed"
    },
    "tags": []
   },
   "source": [
    "### Mapping Embarked to Numerical Values"
   ]
  },
  {
   "cell_type": "code",
   "execution_count": 28,
   "id": "984f3fe4",
   "metadata": {
    "execution": {
     "iopub.execute_input": "2024-06-14T00:28:40.191510Z",
     "iopub.status.busy": "2024-06-14T00:28:40.191042Z",
     "iopub.status.idle": "2024-06-14T00:28:40.199762Z",
     "shell.execute_reply": "2024-06-14T00:28:40.198480Z"
    },
    "papermill": {
     "duration": 0.039264,
     "end_time": "2024-06-14T00:28:40.202525",
     "exception": false,
     "start_time": "2024-06-14T00:28:40.163261",
     "status": "completed"
    },
    "tags": []
   },
   "outputs": [],
   "source": [
    "embarked_mapping = {\"S\": 0, \"C\": 1, \"Q\": 2}\n",
    "for dataset in train_test_dataset:\n",
    "    dataset['Embarked'] = dataset['Embarked'].map(embarked_mapping)"
   ]
  },
  {
   "cell_type": "code",
   "execution_count": 29,
   "id": "f3df79b7",
   "metadata": {
    "execution": {
     "iopub.execute_input": "2024-06-14T00:28:40.256433Z",
     "iopub.status.busy": "2024-06-14T00:28:40.256007Z",
     "iopub.status.idle": "2024-06-14T00:28:40.275496Z",
     "shell.execute_reply": "2024-06-14T00:28:40.273868Z"
    },
    "papermill": {
     "duration": 0.049391,
     "end_time": "2024-06-14T00:28:40.278166",
     "exception": false,
     "start_time": "2024-06-14T00:28:40.228775",
     "status": "completed"
    },
    "tags": []
   },
   "outputs": [
    {
     "data": {
      "text/html": [
       "<div>\n",
       "<style scoped>\n",
       "    .dataframe tbody tr th:only-of-type {\n",
       "        vertical-align: middle;\n",
       "    }\n",
       "\n",
       "    .dataframe tbody tr th {\n",
       "        vertical-align: top;\n",
       "    }\n",
       "\n",
       "    .dataframe thead th {\n",
       "        text-align: right;\n",
       "    }\n",
       "</style>\n",
       "<table border=\"1\" class=\"dataframe\">\n",
       "  <thead>\n",
       "    <tr style=\"text-align: right;\">\n",
       "      <th></th>\n",
       "      <th>PassengerId</th>\n",
       "      <th>Survived</th>\n",
       "      <th>Pclass</th>\n",
       "      <th>Sex</th>\n",
       "      <th>Age</th>\n",
       "      <th>SibSp</th>\n",
       "      <th>Parch</th>\n",
       "      <th>Ticket</th>\n",
       "      <th>Fare</th>\n",
       "      <th>Embarked</th>\n",
       "      <th>CabinKnown</th>\n",
       "      <th>Title</th>\n",
       "    </tr>\n",
       "  </thead>\n",
       "  <tbody>\n",
       "    <tr>\n",
       "      <th>0</th>\n",
       "      <td>1</td>\n",
       "      <td>0</td>\n",
       "      <td>3</td>\n",
       "      <td>0</td>\n",
       "      <td>1.0</td>\n",
       "      <td>1</td>\n",
       "      <td>0</td>\n",
       "      <td>A/5 21171</td>\n",
       "      <td>7.2500</td>\n",
       "      <td>0</td>\n",
       "      <td>0</td>\n",
       "      <td>0</td>\n",
       "    </tr>\n",
       "    <tr>\n",
       "      <th>1</th>\n",
       "      <td>2</td>\n",
       "      <td>1</td>\n",
       "      <td>1</td>\n",
       "      <td>1</td>\n",
       "      <td>3.0</td>\n",
       "      <td>1</td>\n",
       "      <td>0</td>\n",
       "      <td>PC 17599</td>\n",
       "      <td>71.2833</td>\n",
       "      <td>1</td>\n",
       "      <td>1</td>\n",
       "      <td>2</td>\n",
       "    </tr>\n",
       "    <tr>\n",
       "      <th>2</th>\n",
       "      <td>3</td>\n",
       "      <td>1</td>\n",
       "      <td>3</td>\n",
       "      <td>1</td>\n",
       "      <td>1.0</td>\n",
       "      <td>0</td>\n",
       "      <td>0</td>\n",
       "      <td>STON/O2. 3101282</td>\n",
       "      <td>7.9250</td>\n",
       "      <td>0</td>\n",
       "      <td>0</td>\n",
       "      <td>1</td>\n",
       "    </tr>\n",
       "    <tr>\n",
       "      <th>3</th>\n",
       "      <td>4</td>\n",
       "      <td>1</td>\n",
       "      <td>1</td>\n",
       "      <td>1</td>\n",
       "      <td>2.0</td>\n",
       "      <td>1</td>\n",
       "      <td>0</td>\n",
       "      <td>113803</td>\n",
       "      <td>53.1000</td>\n",
       "      <td>0</td>\n",
       "      <td>1</td>\n",
       "      <td>2</td>\n",
       "    </tr>\n",
       "    <tr>\n",
       "      <th>4</th>\n",
       "      <td>5</td>\n",
       "      <td>0</td>\n",
       "      <td>3</td>\n",
       "      <td>0</td>\n",
       "      <td>2.0</td>\n",
       "      <td>0</td>\n",
       "      <td>0</td>\n",
       "      <td>373450</td>\n",
       "      <td>8.0500</td>\n",
       "      <td>0</td>\n",
       "      <td>0</td>\n",
       "      <td>0</td>\n",
       "    </tr>\n",
       "  </tbody>\n",
       "</table>\n",
       "</div>"
      ],
      "text/plain": [
       "   PassengerId  Survived  Pclass  Sex  Age  SibSp  Parch            Ticket  \\\n",
       "0            1         0       3    0  1.0      1      0         A/5 21171   \n",
       "1            2         1       1    1  3.0      1      0          PC 17599   \n",
       "2            3         1       3    1  1.0      0      0  STON/O2. 3101282   \n",
       "3            4         1       1    1  2.0      1      0            113803   \n",
       "4            5         0       3    0  2.0      0      0            373450   \n",
       "\n",
       "      Fare  Embarked  CabinKnown  Title  \n",
       "0   7.2500         0           0      0  \n",
       "1  71.2833         1           1      2  \n",
       "2   7.9250         0           0      1  \n",
       "3  53.1000         0           1      2  \n",
       "4   8.0500         0           0      0  "
      ]
     },
     "execution_count": 29,
     "metadata": {},
     "output_type": "execute_result"
    }
   ],
   "source": [
    "train_data.head()"
   ]
  },
  {
   "cell_type": "markdown",
   "id": "977f0a07",
   "metadata": {
    "papermill": {
     "duration": 0.025815,
     "end_time": "2024-06-14T00:28:40.330281",
     "exception": false,
     "start_time": "2024-06-14T00:28:40.304466",
     "status": "completed"
    },
    "tags": []
   },
   "source": [
    "### Mapping Fare to Numerical Values"
   ]
  },
  {
   "cell_type": "code",
   "execution_count": 30,
   "id": "b722cf4d",
   "metadata": {
    "execution": {
     "iopub.execute_input": "2024-06-14T00:28:40.397649Z",
     "iopub.status.busy": "2024-06-14T00:28:40.396299Z",
     "iopub.status.idle": "2024-06-14T00:28:40.413746Z",
     "shell.execute_reply": "2024-06-14T00:28:40.412465Z"
    },
    "papermill": {
     "duration": 0.056631,
     "end_time": "2024-06-14T00:28:40.416957",
     "exception": false,
     "start_time": "2024-06-14T00:28:40.360326",
     "status": "completed"
    },
    "tags": []
   },
   "outputs": [],
   "source": [
    "for dataset in train_test_dataset:\n",
    "    dataset.loc[ dataset['Fare'] <= 17, 'Fare'] = 0\n",
    "    dataset.loc[(dataset['Fare'] > 17) & (dataset['Fare'] <= 30), 'Fare'] = 1\n",
    "    dataset.loc[(dataset['Fare'] > 30) & (dataset['Fare'] <= 100), 'Fare'] = 2\n",
    "    dataset.loc[ dataset['Fare'] > 100, 'Fare'] = 3"
   ]
  },
  {
   "cell_type": "code",
   "execution_count": 31,
   "id": "2067f864",
   "metadata": {
    "execution": {
     "iopub.execute_input": "2024-06-14T00:28:40.471859Z",
     "iopub.status.busy": "2024-06-14T00:28:40.471445Z",
     "iopub.status.idle": "2024-06-14T00:28:40.489490Z",
     "shell.execute_reply": "2024-06-14T00:28:40.488116Z"
    },
    "papermill": {
     "duration": 0.048343,
     "end_time": "2024-06-14T00:28:40.492121",
     "exception": false,
     "start_time": "2024-06-14T00:28:40.443778",
     "status": "completed"
    },
    "tags": []
   },
   "outputs": [
    {
     "data": {
      "text/html": [
       "<div>\n",
       "<style scoped>\n",
       "    .dataframe tbody tr th:only-of-type {\n",
       "        vertical-align: middle;\n",
       "    }\n",
       "\n",
       "    .dataframe tbody tr th {\n",
       "        vertical-align: top;\n",
       "    }\n",
       "\n",
       "    .dataframe thead th {\n",
       "        text-align: right;\n",
       "    }\n",
       "</style>\n",
       "<table border=\"1\" class=\"dataframe\">\n",
       "  <thead>\n",
       "    <tr style=\"text-align: right;\">\n",
       "      <th></th>\n",
       "      <th>PassengerId</th>\n",
       "      <th>Survived</th>\n",
       "      <th>Pclass</th>\n",
       "      <th>Sex</th>\n",
       "      <th>Age</th>\n",
       "      <th>SibSp</th>\n",
       "      <th>Parch</th>\n",
       "      <th>Ticket</th>\n",
       "      <th>Fare</th>\n",
       "      <th>Embarked</th>\n",
       "      <th>CabinKnown</th>\n",
       "      <th>Title</th>\n",
       "    </tr>\n",
       "  </thead>\n",
       "  <tbody>\n",
       "    <tr>\n",
       "      <th>0</th>\n",
       "      <td>1</td>\n",
       "      <td>0</td>\n",
       "      <td>3</td>\n",
       "      <td>0</td>\n",
       "      <td>1.0</td>\n",
       "      <td>1</td>\n",
       "      <td>0</td>\n",
       "      <td>A/5 21171</td>\n",
       "      <td>0.0</td>\n",
       "      <td>0</td>\n",
       "      <td>0</td>\n",
       "      <td>0</td>\n",
       "    </tr>\n",
       "    <tr>\n",
       "      <th>1</th>\n",
       "      <td>2</td>\n",
       "      <td>1</td>\n",
       "      <td>1</td>\n",
       "      <td>1</td>\n",
       "      <td>3.0</td>\n",
       "      <td>1</td>\n",
       "      <td>0</td>\n",
       "      <td>PC 17599</td>\n",
       "      <td>2.0</td>\n",
       "      <td>1</td>\n",
       "      <td>1</td>\n",
       "      <td>2</td>\n",
       "    </tr>\n",
       "    <tr>\n",
       "      <th>2</th>\n",
       "      <td>3</td>\n",
       "      <td>1</td>\n",
       "      <td>3</td>\n",
       "      <td>1</td>\n",
       "      <td>1.0</td>\n",
       "      <td>0</td>\n",
       "      <td>0</td>\n",
       "      <td>STON/O2. 3101282</td>\n",
       "      <td>0.0</td>\n",
       "      <td>0</td>\n",
       "      <td>0</td>\n",
       "      <td>1</td>\n",
       "    </tr>\n",
       "    <tr>\n",
       "      <th>3</th>\n",
       "      <td>4</td>\n",
       "      <td>1</td>\n",
       "      <td>1</td>\n",
       "      <td>1</td>\n",
       "      <td>2.0</td>\n",
       "      <td>1</td>\n",
       "      <td>0</td>\n",
       "      <td>113803</td>\n",
       "      <td>2.0</td>\n",
       "      <td>0</td>\n",
       "      <td>1</td>\n",
       "      <td>2</td>\n",
       "    </tr>\n",
       "    <tr>\n",
       "      <th>4</th>\n",
       "      <td>5</td>\n",
       "      <td>0</td>\n",
       "      <td>3</td>\n",
       "      <td>0</td>\n",
       "      <td>2.0</td>\n",
       "      <td>0</td>\n",
       "      <td>0</td>\n",
       "      <td>373450</td>\n",
       "      <td>0.0</td>\n",
       "      <td>0</td>\n",
       "      <td>0</td>\n",
       "      <td>0</td>\n",
       "    </tr>\n",
       "  </tbody>\n",
       "</table>\n",
       "</div>"
      ],
      "text/plain": [
       "   PassengerId  Survived  Pclass  Sex  Age  SibSp  Parch            Ticket  \\\n",
       "0            1         0       3    0  1.0      1      0         A/5 21171   \n",
       "1            2         1       1    1  3.0      1      0          PC 17599   \n",
       "2            3         1       3    1  1.0      0      0  STON/O2. 3101282   \n",
       "3            4         1       1    1  2.0      1      0            113803   \n",
       "4            5         0       3    0  2.0      0      0            373450   \n",
       "\n",
       "   Fare  Embarked  CabinKnown  Title  \n",
       "0   0.0         0           0      0  \n",
       "1   2.0         1           1      2  \n",
       "2   0.0         0           0      1  \n",
       "3   2.0         0           1      2  \n",
       "4   0.0         0           0      0  "
      ]
     },
     "execution_count": 31,
     "metadata": {},
     "output_type": "execute_result"
    }
   ],
   "source": [
    "train_data.head()"
   ]
  },
  {
   "cell_type": "markdown",
   "id": "f797c11c",
   "metadata": {
    "papermill": {
     "duration": 0.030867,
     "end_time": "2024-06-14T00:28:40.549611",
     "exception": false,
     "start_time": "2024-06-14T00:28:40.518744",
     "status": "completed"
    },
    "tags": []
   },
   "source": [
    "### Mapping FamilySize to Numerical Values"
   ]
  },
  {
   "cell_type": "code",
   "execution_count": 32,
   "id": "f9eac0ea",
   "metadata": {
    "execution": {
     "iopub.execute_input": "2024-06-14T00:28:40.620389Z",
     "iopub.status.busy": "2024-06-14T00:28:40.619638Z",
     "iopub.status.idle": "2024-06-14T00:28:40.628689Z",
     "shell.execute_reply": "2024-06-14T00:28:40.627326Z"
    },
    "papermill": {
     "duration": 0.049662,
     "end_time": "2024-06-14T00:28:40.631012",
     "exception": false,
     "start_time": "2024-06-14T00:28:40.581350",
     "status": "completed"
    },
    "tags": []
   },
   "outputs": [],
   "source": [
    "train_data[\"FamilySize\"] = train_data[\"SibSp\"] + train_data[\"Parch\"] + 1\n",
    "test_data[\"FamilySize\"] = test_data[\"SibSp\"] + test_data[\"Parch\"] + 1"
   ]
  },
  {
   "cell_type": "code",
   "execution_count": 33,
   "id": "f1434731",
   "metadata": {
    "execution": {
     "iopub.execute_input": "2024-06-14T00:28:40.687055Z",
     "iopub.status.busy": "2024-06-14T00:28:40.685900Z",
     "iopub.status.idle": "2024-06-14T00:28:40.696076Z",
     "shell.execute_reply": "2024-06-14T00:28:40.694679Z"
    },
    "papermill": {
     "duration": 0.040784,
     "end_time": "2024-06-14T00:28:40.698535",
     "exception": false,
     "start_time": "2024-06-14T00:28:40.657751",
     "status": "completed"
    },
    "tags": []
   },
   "outputs": [],
   "source": [
    "family_mapping = {1: 0, 2: 0.4, 3: 0.8, 4: 1.2, 5: 1.6, 6: 2, 7: 2.4, 8: 2.8, 9: 3.2, 10: 3.6, 11: 4}\n",
    "for dataset in train_test_dataset:\n",
    "    dataset['FamilySize'] = dataset['FamilySize'].map(family_mapping)"
   ]
  },
  {
   "cell_type": "code",
   "execution_count": 34,
   "id": "8958e5a7",
   "metadata": {
    "execution": {
     "iopub.execute_input": "2024-06-14T00:28:40.765926Z",
     "iopub.status.busy": "2024-06-14T00:28:40.765501Z",
     "iopub.status.idle": "2024-06-14T00:28:40.790886Z",
     "shell.execute_reply": "2024-06-14T00:28:40.789084Z"
    },
    "papermill": {
     "duration": 0.068476,
     "end_time": "2024-06-14T00:28:40.793757",
     "exception": false,
     "start_time": "2024-06-14T00:28:40.725281",
     "status": "completed"
    },
    "tags": []
   },
   "outputs": [
    {
     "data": {
      "text/html": [
       "<div>\n",
       "<style scoped>\n",
       "    .dataframe tbody tr th:only-of-type {\n",
       "        vertical-align: middle;\n",
       "    }\n",
       "\n",
       "    .dataframe tbody tr th {\n",
       "        vertical-align: top;\n",
       "    }\n",
       "\n",
       "    .dataframe thead th {\n",
       "        text-align: right;\n",
       "    }\n",
       "</style>\n",
       "<table border=\"1\" class=\"dataframe\">\n",
       "  <thead>\n",
       "    <tr style=\"text-align: right;\">\n",
       "      <th></th>\n",
       "      <th>PassengerId</th>\n",
       "      <th>Survived</th>\n",
       "      <th>Pclass</th>\n",
       "      <th>Sex</th>\n",
       "      <th>Age</th>\n",
       "      <th>SibSp</th>\n",
       "      <th>Parch</th>\n",
       "      <th>Ticket</th>\n",
       "      <th>Fare</th>\n",
       "      <th>Embarked</th>\n",
       "      <th>CabinKnown</th>\n",
       "      <th>Title</th>\n",
       "      <th>FamilySize</th>\n",
       "    </tr>\n",
       "  </thead>\n",
       "  <tbody>\n",
       "    <tr>\n",
       "      <th>0</th>\n",
       "      <td>1</td>\n",
       "      <td>0</td>\n",
       "      <td>3</td>\n",
       "      <td>0</td>\n",
       "      <td>1.0</td>\n",
       "      <td>1</td>\n",
       "      <td>0</td>\n",
       "      <td>A/5 21171</td>\n",
       "      <td>0.0</td>\n",
       "      <td>0</td>\n",
       "      <td>0</td>\n",
       "      <td>0</td>\n",
       "      <td>0.4</td>\n",
       "    </tr>\n",
       "    <tr>\n",
       "      <th>1</th>\n",
       "      <td>2</td>\n",
       "      <td>1</td>\n",
       "      <td>1</td>\n",
       "      <td>1</td>\n",
       "      <td>3.0</td>\n",
       "      <td>1</td>\n",
       "      <td>0</td>\n",
       "      <td>PC 17599</td>\n",
       "      <td>2.0</td>\n",
       "      <td>1</td>\n",
       "      <td>1</td>\n",
       "      <td>2</td>\n",
       "      <td>0.4</td>\n",
       "    </tr>\n",
       "    <tr>\n",
       "      <th>2</th>\n",
       "      <td>3</td>\n",
       "      <td>1</td>\n",
       "      <td>3</td>\n",
       "      <td>1</td>\n",
       "      <td>1.0</td>\n",
       "      <td>0</td>\n",
       "      <td>0</td>\n",
       "      <td>STON/O2. 3101282</td>\n",
       "      <td>0.0</td>\n",
       "      <td>0</td>\n",
       "      <td>0</td>\n",
       "      <td>1</td>\n",
       "      <td>0.0</td>\n",
       "    </tr>\n",
       "    <tr>\n",
       "      <th>3</th>\n",
       "      <td>4</td>\n",
       "      <td>1</td>\n",
       "      <td>1</td>\n",
       "      <td>1</td>\n",
       "      <td>2.0</td>\n",
       "      <td>1</td>\n",
       "      <td>0</td>\n",
       "      <td>113803</td>\n",
       "      <td>2.0</td>\n",
       "      <td>0</td>\n",
       "      <td>1</td>\n",
       "      <td>2</td>\n",
       "      <td>0.4</td>\n",
       "    </tr>\n",
       "    <tr>\n",
       "      <th>4</th>\n",
       "      <td>5</td>\n",
       "      <td>0</td>\n",
       "      <td>3</td>\n",
       "      <td>0</td>\n",
       "      <td>2.0</td>\n",
       "      <td>0</td>\n",
       "      <td>0</td>\n",
       "      <td>373450</td>\n",
       "      <td>0.0</td>\n",
       "      <td>0</td>\n",
       "      <td>0</td>\n",
       "      <td>0</td>\n",
       "      <td>0.0</td>\n",
       "    </tr>\n",
       "  </tbody>\n",
       "</table>\n",
       "</div>"
      ],
      "text/plain": [
       "   PassengerId  Survived  Pclass  Sex  Age  SibSp  Parch            Ticket  \\\n",
       "0            1         0       3    0  1.0      1      0         A/5 21171   \n",
       "1            2         1       1    1  3.0      1      0          PC 17599   \n",
       "2            3         1       3    1  1.0      0      0  STON/O2. 3101282   \n",
       "3            4         1       1    1  2.0      1      0            113803   \n",
       "4            5         0       3    0  2.0      0      0            373450   \n",
       "\n",
       "   Fare  Embarked  CabinKnown  Title  FamilySize  \n",
       "0   0.0         0           0      0         0.4  \n",
       "1   2.0         1           1      2         0.4  \n",
       "2   0.0         0           0      1         0.0  \n",
       "3   2.0         0           1      2         0.4  \n",
       "4   0.0         0           0      0         0.0  "
      ]
     },
     "execution_count": 34,
     "metadata": {},
     "output_type": "execute_result"
    }
   ],
   "source": [
    "train_data.head()"
   ]
  },
  {
   "cell_type": "markdown",
   "id": "dc274b41",
   "metadata": {
    "papermill": {
     "duration": 0.034205,
     "end_time": "2024-06-14T00:28:40.858487",
     "exception": false,
     "start_time": "2024-06-14T00:28:40.824282",
     "status": "completed"
    },
    "tags": []
   },
   "source": [
    "### Dropping Unnecessary Columns"
   ]
  },
  {
   "cell_type": "code",
   "execution_count": 35,
   "id": "577d8328",
   "metadata": {
    "execution": {
     "iopub.execute_input": "2024-06-14T00:28:40.916158Z",
     "iopub.status.busy": "2024-06-14T00:28:40.915722Z",
     "iopub.status.idle": "2024-06-14T00:28:40.942688Z",
     "shell.execute_reply": "2024-06-14T00:28:40.941150Z"
    },
    "papermill": {
     "duration": 0.05934,
     "end_time": "2024-06-14T00:28:40.945616",
     "exception": false,
     "start_time": "2024-06-14T00:28:40.886276",
     "status": "completed"
    },
    "tags": []
   },
   "outputs": [],
   "source": [
    "features_drop = ['Ticket', 'SibSp', 'Parch']\n",
    "train = train_data.drop(features_drop, axis=1)\n",
    "test = test_data.drop(features_drop, axis=1)\n",
    "train = train.drop(['PassengerId'], axis=1)"
   ]
  },
  {
   "cell_type": "markdown",
   "id": "c5e78a3f",
   "metadata": {
    "papermill": {
     "duration": 0.026703,
     "end_time": "2024-06-14T00:28:40.999253",
     "exception": false,
     "start_time": "2024-06-14T00:28:40.972550",
     "status": "completed"
    },
    "tags": []
   },
   "source": [
    "### Separating Features and Target Variable"
   ]
  },
  {
   "cell_type": "code",
   "execution_count": 36,
   "id": "c3a9358d",
   "metadata": {
    "execution": {
     "iopub.execute_input": "2024-06-14T00:28:41.057250Z",
     "iopub.status.busy": "2024-06-14T00:28:41.056822Z",
     "iopub.status.idle": "2024-06-14T00:28:41.067246Z",
     "shell.execute_reply": "2024-06-14T00:28:41.065879Z"
    },
    "papermill": {
     "duration": 0.04231,
     "end_time": "2024-06-14T00:28:41.070050",
     "exception": false,
     "start_time": "2024-06-14T00:28:41.027740",
     "status": "completed"
    },
    "tags": []
   },
   "outputs": [
    {
     "data": {
      "text/plain": [
       "((891, 8), (891,))"
      ]
     },
     "execution_count": 36,
     "metadata": {},
     "output_type": "execute_result"
    }
   ],
   "source": [
    "train_data = train.drop('Survived', axis=1)\n",
    "target = train['Survived']\n",
    "\n",
    "train_data.shape, target.shape"
   ]
  },
  {
   "cell_type": "code",
   "execution_count": 37,
   "id": "e4fa4c20",
   "metadata": {
    "execution": {
     "iopub.execute_input": "2024-06-14T00:28:41.126152Z",
     "iopub.status.busy": "2024-06-14T00:28:41.125724Z",
     "iopub.status.idle": "2024-06-14T00:28:41.145518Z",
     "shell.execute_reply": "2024-06-14T00:28:41.144122Z"
    },
    "papermill": {
     "duration": 0.051205,
     "end_time": "2024-06-14T00:28:41.148356",
     "exception": false,
     "start_time": "2024-06-14T00:28:41.097151",
     "status": "completed"
    },
    "tags": []
   },
   "outputs": [
    {
     "data": {
      "text/html": [
       "<div>\n",
       "<style scoped>\n",
       "    .dataframe tbody tr th:only-of-type {\n",
       "        vertical-align: middle;\n",
       "    }\n",
       "\n",
       "    .dataframe tbody tr th {\n",
       "        vertical-align: top;\n",
       "    }\n",
       "\n",
       "    .dataframe thead th {\n",
       "        text-align: right;\n",
       "    }\n",
       "</style>\n",
       "<table border=\"1\" class=\"dataframe\">\n",
       "  <thead>\n",
       "    <tr style=\"text-align: right;\">\n",
       "      <th></th>\n",
       "      <th>Pclass</th>\n",
       "      <th>Sex</th>\n",
       "      <th>Age</th>\n",
       "      <th>Fare</th>\n",
       "      <th>Embarked</th>\n",
       "      <th>CabinKnown</th>\n",
       "      <th>Title</th>\n",
       "      <th>FamilySize</th>\n",
       "    </tr>\n",
       "  </thead>\n",
       "  <tbody>\n",
       "    <tr>\n",
       "      <th>0</th>\n",
       "      <td>3</td>\n",
       "      <td>0</td>\n",
       "      <td>1.0</td>\n",
       "      <td>0.0</td>\n",
       "      <td>0</td>\n",
       "      <td>0</td>\n",
       "      <td>0</td>\n",
       "      <td>0.4</td>\n",
       "    </tr>\n",
       "    <tr>\n",
       "      <th>1</th>\n",
       "      <td>1</td>\n",
       "      <td>1</td>\n",
       "      <td>3.0</td>\n",
       "      <td>2.0</td>\n",
       "      <td>1</td>\n",
       "      <td>1</td>\n",
       "      <td>2</td>\n",
       "      <td>0.4</td>\n",
       "    </tr>\n",
       "    <tr>\n",
       "      <th>2</th>\n",
       "      <td>3</td>\n",
       "      <td>1</td>\n",
       "      <td>1.0</td>\n",
       "      <td>0.0</td>\n",
       "      <td>0</td>\n",
       "      <td>0</td>\n",
       "      <td>1</td>\n",
       "      <td>0.0</td>\n",
       "    </tr>\n",
       "    <tr>\n",
       "      <th>3</th>\n",
       "      <td>1</td>\n",
       "      <td>1</td>\n",
       "      <td>2.0</td>\n",
       "      <td>2.0</td>\n",
       "      <td>0</td>\n",
       "      <td>1</td>\n",
       "      <td>2</td>\n",
       "      <td>0.4</td>\n",
       "    </tr>\n",
       "    <tr>\n",
       "      <th>4</th>\n",
       "      <td>3</td>\n",
       "      <td>0</td>\n",
       "      <td>2.0</td>\n",
       "      <td>0.0</td>\n",
       "      <td>0</td>\n",
       "      <td>0</td>\n",
       "      <td>0</td>\n",
       "      <td>0.0</td>\n",
       "    </tr>\n",
       "    <tr>\n",
       "      <th>5</th>\n",
       "      <td>3</td>\n",
       "      <td>0</td>\n",
       "      <td>2.0</td>\n",
       "      <td>0.0</td>\n",
       "      <td>2</td>\n",
       "      <td>0</td>\n",
       "      <td>0</td>\n",
       "      <td>0.0</td>\n",
       "    </tr>\n",
       "    <tr>\n",
       "      <th>6</th>\n",
       "      <td>1</td>\n",
       "      <td>0</td>\n",
       "      <td>3.0</td>\n",
       "      <td>2.0</td>\n",
       "      <td>0</td>\n",
       "      <td>1</td>\n",
       "      <td>0</td>\n",
       "      <td>0.0</td>\n",
       "    </tr>\n",
       "    <tr>\n",
       "      <th>7</th>\n",
       "      <td>3</td>\n",
       "      <td>0</td>\n",
       "      <td>0.0</td>\n",
       "      <td>1.0</td>\n",
       "      <td>0</td>\n",
       "      <td>0</td>\n",
       "      <td>3</td>\n",
       "      <td>1.6</td>\n",
       "    </tr>\n",
       "    <tr>\n",
       "      <th>8</th>\n",
       "      <td>3</td>\n",
       "      <td>1</td>\n",
       "      <td>2.0</td>\n",
       "      <td>0.0</td>\n",
       "      <td>0</td>\n",
       "      <td>0</td>\n",
       "      <td>2</td>\n",
       "      <td>0.8</td>\n",
       "    </tr>\n",
       "    <tr>\n",
       "      <th>9</th>\n",
       "      <td>2</td>\n",
       "      <td>1</td>\n",
       "      <td>0.0</td>\n",
       "      <td>2.0</td>\n",
       "      <td>1</td>\n",
       "      <td>0</td>\n",
       "      <td>2</td>\n",
       "      <td>0.4</td>\n",
       "    </tr>\n",
       "  </tbody>\n",
       "</table>\n",
       "</div>"
      ],
      "text/plain": [
       "   Pclass  Sex  Age  Fare  Embarked  CabinKnown  Title  FamilySize\n",
       "0       3    0  1.0   0.0         0           0      0         0.4\n",
       "1       1    1  3.0   2.0         1           1      2         0.4\n",
       "2       3    1  1.0   0.0         0           0      1         0.0\n",
       "3       1    1  2.0   2.0         0           1      2         0.4\n",
       "4       3    0  2.0   0.0         0           0      0         0.0\n",
       "5       3    0  2.0   0.0         2           0      0         0.0\n",
       "6       1    0  3.0   2.0         0           1      0         0.0\n",
       "7       3    0  0.0   1.0         0           0      3         1.6\n",
       "8       3    1  2.0   0.0         0           0      2         0.8\n",
       "9       2    1  0.0   2.0         1           0      2         0.4"
      ]
     },
     "execution_count": 37,
     "metadata": {},
     "output_type": "execute_result"
    }
   ],
   "source": [
    "train_data.head(10)"
   ]
  },
  {
   "cell_type": "code",
   "execution_count": 38,
   "id": "f660f6fc",
   "metadata": {
    "execution": {
     "iopub.execute_input": "2024-06-14T00:28:41.216834Z",
     "iopub.status.busy": "2024-06-14T00:28:41.215920Z",
     "iopub.status.idle": "2024-06-14T00:28:41.236397Z",
     "shell.execute_reply": "2024-06-14T00:28:41.234604Z"
    },
    "papermill": {
     "duration": 0.058777,
     "end_time": "2024-06-14T00:28:41.240648",
     "exception": false,
     "start_time": "2024-06-14T00:28:41.181871",
     "status": "completed"
    },
    "tags": []
   },
   "outputs": [
    {
     "data": {
      "text/html": [
       "<div>\n",
       "<style scoped>\n",
       "    .dataframe tbody tr th:only-of-type {\n",
       "        vertical-align: middle;\n",
       "    }\n",
       "\n",
       "    .dataframe tbody tr th {\n",
       "        vertical-align: top;\n",
       "    }\n",
       "\n",
       "    .dataframe thead th {\n",
       "        text-align: right;\n",
       "    }\n",
       "</style>\n",
       "<table border=\"1\" class=\"dataframe\">\n",
       "  <thead>\n",
       "    <tr style=\"text-align: right;\">\n",
       "      <th></th>\n",
       "      <th>Survived</th>\n",
       "      <th>Pclass</th>\n",
       "      <th>Sex</th>\n",
       "      <th>Age</th>\n",
       "      <th>Fare</th>\n",
       "      <th>Embarked</th>\n",
       "      <th>CabinKnown</th>\n",
       "      <th>Title</th>\n",
       "      <th>FamilySize</th>\n",
       "    </tr>\n",
       "  </thead>\n",
       "  <tbody>\n",
       "    <tr>\n",
       "      <th>0</th>\n",
       "      <td>0</td>\n",
       "      <td>3</td>\n",
       "      <td>0</td>\n",
       "      <td>1.0</td>\n",
       "      <td>0.0</td>\n",
       "      <td>0</td>\n",
       "      <td>0</td>\n",
       "      <td>0</td>\n",
       "      <td>0.4</td>\n",
       "    </tr>\n",
       "    <tr>\n",
       "      <th>1</th>\n",
       "      <td>1</td>\n",
       "      <td>1</td>\n",
       "      <td>1</td>\n",
       "      <td>3.0</td>\n",
       "      <td>2.0</td>\n",
       "      <td>1</td>\n",
       "      <td>1</td>\n",
       "      <td>2</td>\n",
       "      <td>0.4</td>\n",
       "    </tr>\n",
       "    <tr>\n",
       "      <th>2</th>\n",
       "      <td>1</td>\n",
       "      <td>3</td>\n",
       "      <td>1</td>\n",
       "      <td>1.0</td>\n",
       "      <td>0.0</td>\n",
       "      <td>0</td>\n",
       "      <td>0</td>\n",
       "      <td>1</td>\n",
       "      <td>0.0</td>\n",
       "    </tr>\n",
       "    <tr>\n",
       "      <th>3</th>\n",
       "      <td>1</td>\n",
       "      <td>1</td>\n",
       "      <td>1</td>\n",
       "      <td>2.0</td>\n",
       "      <td>2.0</td>\n",
       "      <td>0</td>\n",
       "      <td>1</td>\n",
       "      <td>2</td>\n",
       "      <td>0.4</td>\n",
       "    </tr>\n",
       "    <tr>\n",
       "      <th>4</th>\n",
       "      <td>0</td>\n",
       "      <td>3</td>\n",
       "      <td>0</td>\n",
       "      <td>2.0</td>\n",
       "      <td>0.0</td>\n",
       "      <td>0</td>\n",
       "      <td>0</td>\n",
       "      <td>0</td>\n",
       "      <td>0.0</td>\n",
       "    </tr>\n",
       "  </tbody>\n",
       "</table>\n",
       "</div>"
      ],
      "text/plain": [
       "   Survived  Pclass  Sex  Age  Fare  Embarked  CabinKnown  Title  FamilySize\n",
       "0         0       3    0  1.0   0.0         0           0      0         0.4\n",
       "1         1       1    1  3.0   2.0         1           1      2         0.4\n",
       "2         1       3    1  1.0   0.0         0           0      1         0.0\n",
       "3         1       1    1  2.0   2.0         0           1      2         0.4\n",
       "4         0       3    0  2.0   0.0         0           0      0         0.0"
      ]
     },
     "execution_count": 38,
     "metadata": {},
     "output_type": "execute_result"
    }
   ],
   "source": [
    "train.head()"
   ]
  },
  {
   "cell_type": "code",
   "execution_count": 39,
   "id": "fa9a5cff",
   "metadata": {
    "execution": {
     "iopub.execute_input": "2024-06-14T00:28:41.298875Z",
     "iopub.status.busy": "2024-06-14T00:28:41.298500Z",
     "iopub.status.idle": "2024-06-14T00:28:41.314824Z",
     "shell.execute_reply": "2024-06-14T00:28:41.313604Z"
    },
    "papermill": {
     "duration": 0.048157,
     "end_time": "2024-06-14T00:28:41.317339",
     "exception": false,
     "start_time": "2024-06-14T00:28:41.269182",
     "status": "completed"
    },
    "tags": []
   },
   "outputs": [
    {
     "data": {
      "text/html": [
       "<div>\n",
       "<style scoped>\n",
       "    .dataframe tbody tr th:only-of-type {\n",
       "        vertical-align: middle;\n",
       "    }\n",
       "\n",
       "    .dataframe tbody tr th {\n",
       "        vertical-align: top;\n",
       "    }\n",
       "\n",
       "    .dataframe thead th {\n",
       "        text-align: right;\n",
       "    }\n",
       "</style>\n",
       "<table border=\"1\" class=\"dataframe\">\n",
       "  <thead>\n",
       "    <tr style=\"text-align: right;\">\n",
       "      <th></th>\n",
       "      <th>PassengerId</th>\n",
       "      <th>Pclass</th>\n",
       "      <th>Sex</th>\n",
       "      <th>Age</th>\n",
       "      <th>Fare</th>\n",
       "      <th>Embarked</th>\n",
       "      <th>CabinKnown</th>\n",
       "      <th>Title</th>\n",
       "      <th>FamilySize</th>\n",
       "    </tr>\n",
       "  </thead>\n",
       "  <tbody>\n",
       "    <tr>\n",
       "      <th>0</th>\n",
       "      <td>892</td>\n",
       "      <td>3</td>\n",
       "      <td>0</td>\n",
       "      <td>2.0</td>\n",
       "      <td>0.0</td>\n",
       "      <td>2</td>\n",
       "      <td>0</td>\n",
       "      <td>0</td>\n",
       "      <td>0.0</td>\n",
       "    </tr>\n",
       "    <tr>\n",
       "      <th>1</th>\n",
       "      <td>893</td>\n",
       "      <td>3</td>\n",
       "      <td>1</td>\n",
       "      <td>3.0</td>\n",
       "      <td>0.0</td>\n",
       "      <td>0</td>\n",
       "      <td>0</td>\n",
       "      <td>2</td>\n",
       "      <td>0.4</td>\n",
       "    </tr>\n",
       "    <tr>\n",
       "      <th>2</th>\n",
       "      <td>894</td>\n",
       "      <td>2</td>\n",
       "      <td>0</td>\n",
       "      <td>3.0</td>\n",
       "      <td>0.0</td>\n",
       "      <td>2</td>\n",
       "      <td>0</td>\n",
       "      <td>0</td>\n",
       "      <td>0.0</td>\n",
       "    </tr>\n",
       "    <tr>\n",
       "      <th>3</th>\n",
       "      <td>895</td>\n",
       "      <td>3</td>\n",
       "      <td>0</td>\n",
       "      <td>2.0</td>\n",
       "      <td>0.0</td>\n",
       "      <td>0</td>\n",
       "      <td>0</td>\n",
       "      <td>0</td>\n",
       "      <td>0.0</td>\n",
       "    </tr>\n",
       "    <tr>\n",
       "      <th>4</th>\n",
       "      <td>896</td>\n",
       "      <td>3</td>\n",
       "      <td>1</td>\n",
       "      <td>1.0</td>\n",
       "      <td>0.0</td>\n",
       "      <td>0</td>\n",
       "      <td>0</td>\n",
       "      <td>2</td>\n",
       "      <td>0.8</td>\n",
       "    </tr>\n",
       "  </tbody>\n",
       "</table>\n",
       "</div>"
      ],
      "text/plain": [
       "   PassengerId  Pclass  Sex  Age  Fare  Embarked  CabinKnown  Title  \\\n",
       "0          892       3    0  2.0   0.0         2           0      0   \n",
       "1          893       3    1  3.0   0.0         0           0      2   \n",
       "2          894       2    0  3.0   0.0         2           0      0   \n",
       "3          895       3    0  2.0   0.0         0           0      0   \n",
       "4          896       3    1  1.0   0.0         0           0      2   \n",
       "\n",
       "   FamilySize  \n",
       "0         0.0  \n",
       "1         0.4  \n",
       "2         0.0  \n",
       "3         0.0  \n",
       "4         0.8  "
      ]
     },
     "execution_count": 39,
     "metadata": {},
     "output_type": "execute_result"
    }
   ],
   "source": [
    "test.head()"
   ]
  },
  {
   "cell_type": "code",
   "execution_count": 40,
   "id": "de3e306d",
   "metadata": {
    "execution": {
     "iopub.execute_input": "2024-06-14T00:28:41.375983Z",
     "iopub.status.busy": "2024-06-14T00:28:41.375561Z",
     "iopub.status.idle": "2024-06-14T00:28:41.395254Z",
     "shell.execute_reply": "2024-06-14T00:28:41.393830Z"
    },
    "papermill": {
     "duration": 0.052598,
     "end_time": "2024-06-14T00:28:41.397916",
     "exception": false,
     "start_time": "2024-06-14T00:28:41.345318",
     "status": "completed"
    },
    "tags": []
   },
   "outputs": [
    {
     "data": {
      "text/html": [
       "<div>\n",
       "<style scoped>\n",
       "    .dataframe tbody tr th:only-of-type {\n",
       "        vertical-align: middle;\n",
       "    }\n",
       "\n",
       "    .dataframe tbody tr th {\n",
       "        vertical-align: top;\n",
       "    }\n",
       "\n",
       "    .dataframe thead th {\n",
       "        text-align: right;\n",
       "    }\n",
       "</style>\n",
       "<table border=\"1\" class=\"dataframe\">\n",
       "  <thead>\n",
       "    <tr style=\"text-align: right;\">\n",
       "      <th></th>\n",
       "      <th>PassengerId</th>\n",
       "      <th>Pclass</th>\n",
       "      <th>Sex</th>\n",
       "      <th>Age</th>\n",
       "      <th>SibSp</th>\n",
       "      <th>Parch</th>\n",
       "      <th>Ticket</th>\n",
       "      <th>Fare</th>\n",
       "      <th>Embarked</th>\n",
       "      <th>CabinKnown</th>\n",
       "      <th>Title</th>\n",
       "      <th>FamilySize</th>\n",
       "    </tr>\n",
       "  </thead>\n",
       "  <tbody>\n",
       "    <tr>\n",
       "      <th>0</th>\n",
       "      <td>892</td>\n",
       "      <td>3</td>\n",
       "      <td>0</td>\n",
       "      <td>2.0</td>\n",
       "      <td>0</td>\n",
       "      <td>0</td>\n",
       "      <td>330911</td>\n",
       "      <td>0.0</td>\n",
       "      <td>2</td>\n",
       "      <td>0</td>\n",
       "      <td>0</td>\n",
       "      <td>0.0</td>\n",
       "    </tr>\n",
       "    <tr>\n",
       "      <th>1</th>\n",
       "      <td>893</td>\n",
       "      <td>3</td>\n",
       "      <td>1</td>\n",
       "      <td>3.0</td>\n",
       "      <td>1</td>\n",
       "      <td>0</td>\n",
       "      <td>363272</td>\n",
       "      <td>0.0</td>\n",
       "      <td>0</td>\n",
       "      <td>0</td>\n",
       "      <td>2</td>\n",
       "      <td>0.4</td>\n",
       "    </tr>\n",
       "    <tr>\n",
       "      <th>2</th>\n",
       "      <td>894</td>\n",
       "      <td>2</td>\n",
       "      <td>0</td>\n",
       "      <td>3.0</td>\n",
       "      <td>0</td>\n",
       "      <td>0</td>\n",
       "      <td>240276</td>\n",
       "      <td>0.0</td>\n",
       "      <td>2</td>\n",
       "      <td>0</td>\n",
       "      <td>0</td>\n",
       "      <td>0.0</td>\n",
       "    </tr>\n",
       "    <tr>\n",
       "      <th>3</th>\n",
       "      <td>895</td>\n",
       "      <td>3</td>\n",
       "      <td>0</td>\n",
       "      <td>2.0</td>\n",
       "      <td>0</td>\n",
       "      <td>0</td>\n",
       "      <td>315154</td>\n",
       "      <td>0.0</td>\n",
       "      <td>0</td>\n",
       "      <td>0</td>\n",
       "      <td>0</td>\n",
       "      <td>0.0</td>\n",
       "    </tr>\n",
       "    <tr>\n",
       "      <th>4</th>\n",
       "      <td>896</td>\n",
       "      <td>3</td>\n",
       "      <td>1</td>\n",
       "      <td>1.0</td>\n",
       "      <td>1</td>\n",
       "      <td>1</td>\n",
       "      <td>3101298</td>\n",
       "      <td>0.0</td>\n",
       "      <td>0</td>\n",
       "      <td>0</td>\n",
       "      <td>2</td>\n",
       "      <td>0.8</td>\n",
       "    </tr>\n",
       "  </tbody>\n",
       "</table>\n",
       "</div>"
      ],
      "text/plain": [
       "   PassengerId  Pclass  Sex  Age  SibSp  Parch   Ticket  Fare  Embarked  \\\n",
       "0          892       3    0  2.0      0      0   330911   0.0         2   \n",
       "1          893       3    1  3.0      1      0   363272   0.0         0   \n",
       "2          894       2    0  3.0      0      0   240276   0.0         2   \n",
       "3          895       3    0  2.0      0      0   315154   0.0         0   \n",
       "4          896       3    1  1.0      1      1  3101298   0.0         0   \n",
       "\n",
       "   CabinKnown  Title  FamilySize  \n",
       "0           0      0         0.0  \n",
       "1           0      2         0.4  \n",
       "2           0      0         0.0  \n",
       "3           0      0         0.0  \n",
       "4           0      2         0.8  "
      ]
     },
     "execution_count": 40,
     "metadata": {},
     "output_type": "execute_result"
    }
   ],
   "source": [
    "test_data.head()"
   ]
  },
  {
   "cell_type": "markdown",
   "id": "7f619346",
   "metadata": {
    "papermill": {
     "duration": 0.027811,
     "end_time": "2024-06-14T00:28:41.454266",
     "exception": false,
     "start_time": "2024-06-14T00:28:41.426455",
     "status": "completed"
    },
    "tags": []
   },
   "source": [
    "## Modeling\n",
    "\n",
    "In this section, we will train a machine learning model to predict survival on the Titanic."
   ]
  },
  {
   "cell_type": "markdown",
   "id": "3532f941",
   "metadata": {
    "papermill": {
     "duration": 0.027893,
     "end_time": "2024-06-14T00:28:41.511457",
     "exception": false,
     "start_time": "2024-06-14T00:28:41.483564",
     "status": "completed"
    },
    "tags": []
   },
   "source": [
    "### K-Fold Cross-Validation Setup\n",
    "\n",
    "To evaluate the performance of our model more robustly, we will use k-fold cross-validation."
   ]
  },
  {
   "cell_type": "code",
   "execution_count": 41,
   "id": "ce93bcc5",
   "metadata": {
    "execution": {
     "iopub.execute_input": "2024-06-14T00:28:41.569947Z",
     "iopub.status.busy": "2024-06-14T00:28:41.569548Z",
     "iopub.status.idle": "2024-06-14T00:28:41.575657Z",
     "shell.execute_reply": "2024-06-14T00:28:41.574457Z"
    },
    "papermill": {
     "duration": 0.038886,
     "end_time": "2024-06-14T00:28:41.578611",
     "exception": false,
     "start_time": "2024-06-14T00:28:41.539725",
     "status": "completed"
    },
    "tags": []
   },
   "outputs": [],
   "source": [
    "k_fold = KFold(n_splits=10, shuffle=True, random_state=0)"
   ]
  },
  {
   "cell_type": "markdown",
   "id": "c946db3c",
   "metadata": {
    "papermill": {
     "duration": 0.029159,
     "end_time": "2024-06-14T00:28:41.636707",
     "exception": false,
     "start_time": "2024-06-14T00:28:41.607548",
     "status": "completed"
    },
    "tags": []
   },
   "source": [
    "### Training and Evaluating a K-Nearest Neighbors (KNN) Classifier\n",
    "\n",
    "In this section, we will train a K-Nearest Neighbors (KNN) classifier"
   ]
  },
  {
   "cell_type": "code",
   "execution_count": 42,
   "id": "11f72673",
   "metadata": {
    "execution": {
     "iopub.execute_input": "2024-06-14T00:28:41.695305Z",
     "iopub.status.busy": "2024-06-14T00:28:41.694891Z",
     "iopub.status.idle": "2024-06-14T00:28:41.858792Z",
     "shell.execute_reply": "2024-06-14T00:28:41.857504Z"
    },
    "papermill": {
     "duration": 0.196531,
     "end_time": "2024-06-14T00:28:41.861577",
     "exception": false,
     "start_time": "2024-06-14T00:28:41.665046",
     "status": "completed"
    },
    "tags": []
   },
   "outputs": [
    {
     "name": "stdout",
     "output_type": "stream",
     "text": [
      "[0.82222222 0.78651685 0.80898876 0.83146067 0.84269663 0.80898876\n",
      " 0.84269663 0.78651685 0.82022472 0.82022472]\n"
     ]
    }
   ],
   "source": [
    "clf = KNeighborsClassifier(n_neighbors = 13)\n",
    "scoring = 'accuracy'\n",
    "score = cross_val_score(clf, train_data, target, cv=k_fold, n_jobs=1, scoring=scoring)\n",
    "print(score)"
   ]
  },
  {
   "cell_type": "code",
   "execution_count": 43,
   "id": "201101f8",
   "metadata": {
    "execution": {
     "iopub.execute_input": "2024-06-14T00:28:41.920285Z",
     "iopub.status.busy": "2024-06-14T00:28:41.919875Z",
     "iopub.status.idle": "2024-06-14T00:28:41.927875Z",
     "shell.execute_reply": "2024-06-14T00:28:41.926661Z"
    },
    "papermill": {
     "duration": 0.040033,
     "end_time": "2024-06-14T00:28:41.930304",
     "exception": false,
     "start_time": "2024-06-14T00:28:41.890271",
     "status": "completed"
    },
    "tags": []
   },
   "outputs": [
    {
     "data": {
      "text/plain": [
       "81.71"
      ]
     },
     "execution_count": 43,
     "metadata": {},
     "output_type": "execute_result"
    }
   ],
   "source": [
    "round(np.mean(score)*100, 2)"
   ]
  },
  {
   "cell_type": "markdown",
   "id": "8af68306",
   "metadata": {
    "papermill": {
     "duration": 0.028379,
     "end_time": "2024-06-14T00:28:41.987135",
     "exception": false,
     "start_time": "2024-06-14T00:28:41.958756",
     "status": "completed"
    },
    "tags": []
   },
   "source": [
    "### Training and Evaluating a Decision Tree Classifier\n",
    "\n",
    "In this section, we will train a Decision Tree Classifier"
   ]
  },
  {
   "cell_type": "code",
   "execution_count": 44,
   "id": "3aee9eb5",
   "metadata": {
    "execution": {
     "iopub.execute_input": "2024-06-14T00:28:42.046986Z",
     "iopub.status.busy": "2024-06-14T00:28:42.046187Z",
     "iopub.status.idle": "2024-06-14T00:28:42.130070Z",
     "shell.execute_reply": "2024-06-14T00:28:42.128705Z"
    },
    "papermill": {
     "duration": 0.117553,
     "end_time": "2024-06-14T00:28:42.132820",
     "exception": false,
     "start_time": "2024-06-14T00:28:42.015267",
     "status": "completed"
    },
    "tags": []
   },
   "outputs": [
    {
     "name": "stdout",
     "output_type": "stream",
     "text": [
      "[0.78888889 0.80898876 0.78651685 0.73033708 0.86516854 0.7752809\n",
      " 0.85393258 0.80898876 0.76404494 0.79775281]\n"
     ]
    }
   ],
   "source": [
    "clf = DecisionTreeClassifier()\n",
    "scoring = 'accuracy'\n",
    "score = cross_val_score(clf, train_data, target, cv=k_fold, n_jobs=1, scoring=scoring)\n",
    "print(score)"
   ]
  },
  {
   "cell_type": "code",
   "execution_count": 45,
   "id": "8f00f7ab",
   "metadata": {
    "execution": {
     "iopub.execute_input": "2024-06-14T00:28:42.196205Z",
     "iopub.status.busy": "2024-06-14T00:28:42.195777Z",
     "iopub.status.idle": "2024-06-14T00:28:42.204088Z",
     "shell.execute_reply": "2024-06-14T00:28:42.202846Z"
    },
    "papermill": {
     "duration": 0.042267,
     "end_time": "2024-06-14T00:28:42.206684",
     "exception": false,
     "start_time": "2024-06-14T00:28:42.164417",
     "status": "completed"
    },
    "tags": []
   },
   "outputs": [
    {
     "data": {
      "text/plain": [
       "79.8"
      ]
     },
     "execution_count": 45,
     "metadata": {},
     "output_type": "execute_result"
    }
   ],
   "source": [
    "round(np.mean(score)*100, 2)"
   ]
  },
  {
   "cell_type": "markdown",
   "id": "badc9737",
   "metadata": {
    "papermill": {
     "duration": 0.028228,
     "end_time": "2024-06-14T00:28:42.263860",
     "exception": false,
     "start_time": "2024-06-14T00:28:42.235632",
     "status": "completed"
    },
    "tags": []
   },
   "source": [
    "### Training and Evaluating a Random Forest Classifier\n",
    "\n",
    "In this section, we will train a Random Forest Classifier"
   ]
  },
  {
   "cell_type": "code",
   "execution_count": 46,
   "id": "d0fe69f2",
   "metadata": {
    "execution": {
     "iopub.execute_input": "2024-06-14T00:28:42.322564Z",
     "iopub.status.busy": "2024-06-14T00:28:42.322162Z",
     "iopub.status.idle": "2024-06-14T00:28:42.762211Z",
     "shell.execute_reply": "2024-06-14T00:28:42.760709Z"
    },
    "papermill": {
     "duration": 0.472549,
     "end_time": "2024-06-14T00:28:42.765074",
     "exception": false,
     "start_time": "2024-06-14T00:28:42.292525",
     "status": "completed"
    },
    "tags": []
   },
   "outputs": [
    {
     "name": "stdout",
     "output_type": "stream",
     "text": [
      "[0.83333333 0.83146067 0.80898876 0.78651685 0.84269663 0.79775281\n",
      " 0.78651685 0.79775281 0.73033708 0.80898876]\n"
     ]
    }
   ],
   "source": [
    "clf = RandomForestClassifier(n_estimators=13)\n",
    "scoring = 'accuracy'\n",
    "score = cross_val_score(clf, train_data, target, cv=k_fold, n_jobs=1, scoring=scoring)\n",
    "print(score)"
   ]
  },
  {
   "cell_type": "code",
   "execution_count": 47,
   "id": "5377f95a",
   "metadata": {
    "execution": {
     "iopub.execute_input": "2024-06-14T00:28:42.826477Z",
     "iopub.status.busy": "2024-06-14T00:28:42.825906Z",
     "iopub.status.idle": "2024-06-14T00:28:42.834837Z",
     "shell.execute_reply": "2024-06-14T00:28:42.833424Z"
    },
    "papermill": {
     "duration": 0.043403,
     "end_time": "2024-06-14T00:28:42.837696",
     "exception": false,
     "start_time": "2024-06-14T00:28:42.794293",
     "status": "completed"
    },
    "tags": []
   },
   "outputs": [
    {
     "data": {
      "text/plain": [
       "80.24"
      ]
     },
     "execution_count": 47,
     "metadata": {},
     "output_type": "execute_result"
    }
   ],
   "source": [
    "round(np.mean(score)*100, 2)"
   ]
  },
  {
   "cell_type": "markdown",
   "id": "a706d80c",
   "metadata": {
    "papermill": {
     "duration": 0.028712,
     "end_time": "2024-06-14T00:28:42.895627",
     "exception": false,
     "start_time": "2024-06-14T00:28:42.866915",
     "status": "completed"
    },
    "tags": []
   },
   "source": [
    "## Training and Evaluating a Support Vector Classifier (SVC)\n",
    "\n",
    "In this section, we will train a Support Vector Classifier (SVC)"
   ]
  },
  {
   "cell_type": "code",
   "execution_count": 48,
   "id": "e212778c",
   "metadata": {
    "execution": {
     "iopub.execute_input": "2024-06-14T00:28:42.955284Z",
     "iopub.status.busy": "2024-06-14T00:28:42.954882Z",
     "iopub.status.idle": "2024-06-14T00:28:43.228719Z",
     "shell.execute_reply": "2024-06-14T00:28:43.227176Z"
    },
    "papermill": {
     "duration": 0.306919,
     "end_time": "2024-06-14T00:28:43.231465",
     "exception": false,
     "start_time": "2024-06-14T00:28:42.924546",
     "status": "completed"
    },
    "tags": []
   },
   "outputs": [
    {
     "name": "stdout",
     "output_type": "stream",
     "text": [
      "[0.83333333 0.80898876 0.80898876 0.82022472 0.84269663 0.80898876\n",
      " 0.84269663 0.85393258 0.83146067 0.84269663]\n"
     ]
    }
   ],
   "source": [
    "clf = SVC()\n",
    "scoring = 'accuracy'\n",
    "score = cross_val_score(clf, train_data, target, cv=k_fold, n_jobs=1, scoring=scoring)\n",
    "print(score)"
   ]
  },
  {
   "cell_type": "code",
   "execution_count": 49,
   "id": "7a3df4bd",
   "metadata": {
    "execution": {
     "iopub.execute_input": "2024-06-14T00:28:43.292692Z",
     "iopub.status.busy": "2024-06-14T00:28:43.292267Z",
     "iopub.status.idle": "2024-06-14T00:28:43.300011Z",
     "shell.execute_reply": "2024-06-14T00:28:43.298838Z"
    },
    "papermill": {
     "duration": 0.040787,
     "end_time": "2024-06-14T00:28:43.302517",
     "exception": false,
     "start_time": "2024-06-14T00:28:43.261730",
     "status": "completed"
    },
    "tags": []
   },
   "outputs": [
    {
     "data": {
      "text/plain": [
       "82.94"
      ]
     },
     "execution_count": 49,
     "metadata": {},
     "output_type": "execute_result"
    }
   ],
   "source": [
    "round(np.mean(score)*100,2)"
   ]
  },
  {
   "cell_type": "markdown",
   "id": "d3afa9ca",
   "metadata": {
    "papermill": {
     "duration": 0.029197,
     "end_time": "2024-06-14T00:28:43.360863",
     "exception": false,
     "start_time": "2024-06-14T00:28:43.331666",
     "status": "completed"
    },
    "tags": []
   },
   "source": [
    "After training and evaluating several machine learning models, the Support Vector Classifier **(SVC)** has demonstrated superior performance based on accuracy scores from k-fold cross-validation."
   ]
  },
  {
   "cell_type": "markdown",
   "id": "4e0b6838",
   "metadata": {
    "papermill": {
     "duration": 0.030603,
     "end_time": "2024-06-14T00:28:43.420740",
     "exception": false,
     "start_time": "2024-06-14T00:28:43.390137",
     "status": "completed"
    },
    "tags": []
   },
   "source": [
    "### Making Predictions"
   ]
  },
  {
   "cell_type": "code",
   "execution_count": 50,
   "id": "10056c06",
   "metadata": {
    "execution": {
     "iopub.execute_input": "2024-06-14T00:28:43.481013Z",
     "iopub.status.busy": "2024-06-14T00:28:43.480622Z",
     "iopub.status.idle": "2024-06-14T00:28:43.524671Z",
     "shell.execute_reply": "2024-06-14T00:28:43.523499Z"
    },
    "papermill": {
     "duration": 0.077763,
     "end_time": "2024-06-14T00:28:43.527692",
     "exception": false,
     "start_time": "2024-06-14T00:28:43.449929",
     "status": "completed"
    },
    "tags": []
   },
   "outputs": [],
   "source": [
    "clf = SVC()\n",
    "clf.fit(train_data, target)\n",
    "\n",
    "test_data = test.drop(\"PassengerId\", axis=1).copy()\n",
    "prediction = clf.predict(test_data)"
   ]
  },
  {
   "cell_type": "code",
   "execution_count": 51,
   "id": "bf4651c8",
   "metadata": {
    "execution": {
     "iopub.execute_input": "2024-06-14T00:28:43.590219Z",
     "iopub.status.busy": "2024-06-14T00:28:43.589819Z",
     "iopub.status.idle": "2024-06-14T00:28:43.599371Z",
     "shell.execute_reply": "2024-06-14T00:28:43.598316Z"
    },
    "papermill": {
     "duration": 0.042959,
     "end_time": "2024-06-14T00:28:43.601893",
     "exception": false,
     "start_time": "2024-06-14T00:28:43.558934",
     "status": "completed"
    },
    "tags": []
   },
   "outputs": [],
   "source": [
    "submission = pd.DataFrame({\n",
    "        \"PassengerId\": test[\"PassengerId\"],\n",
    "        \"Survived\": prediction\n",
    "    })\n",
    "\n",
    "submission.to_csv('submission.csv', index=False)"
   ]
  },
  {
   "cell_type": "code",
   "execution_count": 52,
   "id": "1beb1e2f",
   "metadata": {
    "execution": {
     "iopub.execute_input": "2024-06-14T00:28:43.662923Z",
     "iopub.status.busy": "2024-06-14T00:28:43.661857Z",
     "iopub.status.idle": "2024-06-14T00:28:43.674776Z",
     "shell.execute_reply": "2024-06-14T00:28:43.673596Z"
    },
    "papermill": {
     "duration": 0.046255,
     "end_time": "2024-06-14T00:28:43.677532",
     "exception": false,
     "start_time": "2024-06-14T00:28:43.631277",
     "status": "completed"
    },
    "tags": []
   },
   "outputs": [
    {
     "data": {
      "text/html": [
       "<div>\n",
       "<style scoped>\n",
       "    .dataframe tbody tr th:only-of-type {\n",
       "        vertical-align: middle;\n",
       "    }\n",
       "\n",
       "    .dataframe tbody tr th {\n",
       "        vertical-align: top;\n",
       "    }\n",
       "\n",
       "    .dataframe thead th {\n",
       "        text-align: right;\n",
       "    }\n",
       "</style>\n",
       "<table border=\"1\" class=\"dataframe\">\n",
       "  <thead>\n",
       "    <tr style=\"text-align: right;\">\n",
       "      <th></th>\n",
       "      <th>PassengerId</th>\n",
       "      <th>Survived</th>\n",
       "    </tr>\n",
       "  </thead>\n",
       "  <tbody>\n",
       "    <tr>\n",
       "      <th>0</th>\n",
       "      <td>892</td>\n",
       "      <td>0</td>\n",
       "    </tr>\n",
       "    <tr>\n",
       "      <th>1</th>\n",
       "      <td>893</td>\n",
       "      <td>1</td>\n",
       "    </tr>\n",
       "    <tr>\n",
       "      <th>2</th>\n",
       "      <td>894</td>\n",
       "      <td>0</td>\n",
       "    </tr>\n",
       "    <tr>\n",
       "      <th>3</th>\n",
       "      <td>895</td>\n",
       "      <td>0</td>\n",
       "    </tr>\n",
       "    <tr>\n",
       "      <th>4</th>\n",
       "      <td>896</td>\n",
       "      <td>1</td>\n",
       "    </tr>\n",
       "  </tbody>\n",
       "</table>\n",
       "</div>"
      ],
      "text/plain": [
       "   PassengerId  Survived\n",
       "0          892         0\n",
       "1          893         1\n",
       "2          894         0\n",
       "3          895         0\n",
       "4          896         1"
      ]
     },
     "execution_count": 52,
     "metadata": {},
     "output_type": "execute_result"
    }
   ],
   "source": [
    "submission = pd.read_csv('submission.csv')\n",
    "submission.head()"
   ]
  },
  {
   "cell_type": "code",
   "execution_count": 53,
   "id": "be195f4c",
   "metadata": {
    "execution": {
     "iopub.execute_input": "2024-06-14T00:28:43.740099Z",
     "iopub.status.busy": "2024-06-14T00:28:43.739674Z",
     "iopub.status.idle": "2024-06-14T00:28:43.948241Z",
     "shell.execute_reply": "2024-06-14T00:28:43.946330Z"
    },
    "papermill": {
     "duration": 0.24547,
     "end_time": "2024-06-14T00:28:43.953011",
     "exception": false,
     "start_time": "2024-06-14T00:28:43.707541",
     "status": "completed"
    },
    "tags": []
   },
   "outputs": [
    {
     "data": {
      "image/png": "[encoded data removed]",
      "text/plain": [
       "<Figure size 800x600 with 1 Axes>"
      ]
     },
     "metadata": {},
     "output_type": "display_data"
    }
   ],
   "source": [
    "cm = confusion_matrix(target, clf.predict(train_data))\n",
    "\n",
    "plt.figure(figsize=(8, 6))\n",
    "sns.heatmap(cm, annot=True, fmt='d', cmap='Blues', cbar=False,\n",
    "            xticklabels=['Not Survived', 'Survived'],\n",
    "            yticklabels=['Not Survived', 'Survived'])\n",
    "plt.xlabel('Predicted')\n",
    "plt.ylabel('Actual')\n",
    "plt.title('Confusion Matrix')\n",
    "plt.show()"
   ]
  }
 ],
 "metadata": {
  "kaggle": {
   "accelerator": "none",
   "dataSources": [
    {
     "datasetId": 348873,
     "sourceId": 687897,
     "sourceType": "datasetVersion"
    }
   ],
   "dockerImageVersionId": 30732,
   "isGpuEnabled": false,
   "isInternetEnabled": false,
   "language": "python",
   "sourceType": "notebook"
  },
  "kernelspec": {
   "display_name": "Python 3",
   "language": "python",
   "name": "python3"
  },
  "language_info": {
   "codemirror_mode": {
    "name": "ipython",
    "version": 3
   },
   "file_extension": ".py",
   "mimetype": "text/x-python",
   "name": "python",
   "nbconvert_exporter": "python",
   "pygments_lexer": "ipython3",
   "version": "3.10.13"
  },
  "papermill": {
   "default_parameters": {},
   "duration": 13.836413,
   "end_time": "2024-06-14T00:28:44.729492",
   "environment_variables": {},
   "exception": null,
   "input_path": "__notebook__.ipynb",
   "output_path": "__notebook__.ipynb",
   "parameters": {},
   "start_time": "2024-06-14T00:28:30.893079",
   "version": "2.5.0"
  }
 },
 "nbformat": 4,
 "nbformat_minor": 5
}
